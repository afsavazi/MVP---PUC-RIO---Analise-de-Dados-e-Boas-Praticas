{
  "cells": [
    {
      "cell_type": "markdown",
      "metadata": {
        "id": "view-in-github",
        "colab_type": "text"
      },
      "source": [
        "<a href=\"https://colab.research.google.com/github/afsavazi/MVP---PUC-RIO---Analise-de-Dados-e-Boas-Praticas/blob/main/MVP_Augusto%20Frank%20Savazi.ipynb\" target=\"_parent\"><img src=\"https://colab.research.google.com/assets/colab-badge.svg\" alt=\"Open In Colab\"/></a>"
      ]
    },
    {
      "cell_type": "markdown",
      "metadata": {
        "id": "b7meXqvQPGPA"
      },
      "source": [
        "##MVP de Análise de Dados e Boas Práticas em Saúde Pública\n",
        "###Aluno: Augusto Frank Savazi - 396.268.708-42\n",
        "\n",
        "\n",
        "###**Introdução ao Projeto:**\n",
        "\n",
        "Este MVP (Produto Mínimo Viável) de Análise de Dados foca na exploração de um conjunto de dados real de notificações\n",
        "de casos de dengue na cidade de Votuporanga, São Paulo, Brasil. O propósito deste projeto vai além de demonstrar\n",
        "habilidades em Ciência de Dados; visa fornecer insights valiosos para auxiliar as autoridades de saúde e outros\n",
        "stakeholders na tomada de decisões informadas, contribuindo para estratégias eficazes de saúde pública.\n",
        "\n",
        "**Definição do Problema:**\n",
        "\n",
        "O dataset explorado contém dados detalhados sobre notificações de dengue em Votuporanga, uma área de alta prevalência\n",
        "da doença. A dengue é uma doença viral transmitida por mosquitos, especialmente comum em regiões tropicais e subtropicais.\n",
        "Neste projeto, nosso objetivo é identificar padrões e tendências nos dados que ajudem a compreender a distribuição da\n",
        "doença, facilitando a prevenção e o controle de futuros surtos.\n",
        "\n",
        "**Descrição dos Atributos do Dataset:**\n",
        "- Data de Notificação: Data em que o caso de dengue foi notificado.\n",
        "- Unidades de Saúde: Identificação das unidades de saúde responsáveis pela notificação.\n",
        "\n",
        "**- Dados Demográficos:** Informações sobre os pacientes, incluindo idade e sexo.\n",
        "- Localização: Endereço e bairro de residência do paciente.\n",
        "- Dados Clínicos: Detalhes dos sintomas, data de início dos sintomas e resultados de exames.\n",
        "- Variável de Classe: Indica se o caso foi confirmado como dengue.\n",
        "\n",
        "**Importância do Dataset:**\n",
        "\n",
        "Este dataset é uma ferramenta crucial para entender a dinâmica da dengue em Votuporanga. A análise desses dados\n",
        "é essencial para desenvolver estratégias de saúde pública mais eficazes e para responder de maneira proativa\n",
        "aos desafios impostos pela doença na região.\n",
        "\"\"\"\n"
      ]
    },
    {
      "cell_type": "markdown",
      "metadata": {
        "id": "Rje2ErddYzyP"
      },
      "source": [
        "###Estrutura e Ferramentas do Projeto de Análise de Dengue\n",
        "\n",
        "\n",
        "**Estrutura do Projeto e Ferramentas Utilizadas:**\n",
        "Neste projeto, adotamos um conjunto de ferramentas e bibliotecas de ponta em Ciência de Dados, escolhidas por sua\n",
        "eficácia, facilidade de uso e aceitação na comunidade de análise de dados. Estas ferramentas proporcionarão uma\n",
        "abordagem rigorosa e sofisticada para a análise dos dados de dengue em Votuporanga - SP.\n",
        "\n",
        "**Ferramentas Utilizadas:**\n",
        "\n",
        "**- Google Colab:** Uma plataforma baseada em nuvem utilizada para escrever e executar nosso código Python. O Colab oferece\n",
        "  simplicidade de uso, acesso a recursos computacionais avançados e a capacidade de compartilhar e colaborar com outros,\n",
        "  sendo ideal para projetos de Ciência de Dados.\n",
        "\n",
        "**- Python:** A linguagem de programação escolhida devido à sua versatilidade e ampla adoção em Ciência de Dados. Python é\n",
        "  conhecido por sua legibilidade e uma vasta biblioteca de pacotes, tornando-o excelente para manipulação de dados,\n",
        "  análise estatística e modelagem.\n",
        "\n",
        "**- Pandas:** Uma biblioteca essencial para a manipulação e análise de dados, utilizada para carregar, limpar, explorar\n",
        "  e manipular o dataset. O Pandas é fundamental na preparação e transformação de dados.\n",
        "\n",
        "**- NumPy:** Em conjunto com o Pandas, o NumPy oferece suporte para arrays e matrizes multidimensionais, facilitando\n",
        "  operações matemáticas e estatísticas complexas na análise de dados.\n",
        "\n",
        "**- Matplotlib e Seaborn:** Bibliotecas utilizadas para visualizações de dados, permitindo a criação de gráficos informativos\n",
        "  e visualmente atraentes, fundamentais para a interpretação e comunicação de insights.\n",
        "\n",
        "**- Scikit-learn: **Empregada para tarefas de aprendizado de máquina, incluindo modelagem estatística e algoritmos de\n",
        "  classificação. Esta biblioteca permite a aplicação de técnicas avançadas de análise para extrair padrões e previsões\n",
        "  dos dados.\n",
        "\"\"\"\n"
      ]
    },
    {
      "cell_type": "markdown",
      "metadata": {
        "id": "r6DfOB8wY-u_"
      },
      "source": [
        "Importação de Bibliotecas\n",
        "\n",
        "Iniciamos o projeto importando todas as bibliotecas necessárias. Este passo é crucial para garantir que temos todas as ferramentas disponíveis para as análises subsequentes."
      ]
    },
    {
      "cell_type": "code",
      "execution_count": 1,
      "metadata": {
        "id": "1Y_CssWCZSbc"
      },
      "outputs": [],
      "source": [
        "# Importação de Bibliotecas\n",
        "\n",
        "# Este bloco de código é dedicado à importação das bibliotecas necessárias para o projeto.\n",
        "# A importação correta e organizada de bibliotecas é um passo fundamental para assegurar\n",
        "# que todas as ferramentas e funcionalidades necessárias estejam disponíveis para análise e processamento dos dados\n",
        "\n",
        "# Importando bibliotecas para manipulação de dados e análise\n",
        "import pandas as pd  # Para manipulação e análise de dados\n",
        "import numpy as np   # Para operações matemáticas e manipulação de arrays\n",
        "\n",
        "# Importando bibliotecas para visualização de dados\n",
        "import matplotlib.pyplot as plt  # Para criação de gráficos\n",
        "import matplotlib.dates as mdates # Para criação de gráficos\n",
        "import seaborn as sns            # Para visualizações estatísticas avançadas\n",
        "from matplotlib import cm        # Para mapas de cores personalizados\n",
        "\n",
        "# Biblioteca para visualização de dados faltantes\n",
        "import missingno as msno # Para visualização de dados ausentes\n",
        "\n",
        "# Importando ferramentas do pandas para configuração e visualização\n",
        "from pandas.plotting import scatter_matrix\n",
        "from pandas import set_option\n",
        "\n",
        "# Importando bibliotecas do Scikit-learn para pré-processamento de dados\n",
        "from sklearn.preprocessing import StandardScaler  # Normalização\n",
        "from sklearn.preprocessing import MinMaxScaler    # Escalonamento\n",
        "\n",
        "# Importando ferramentas do Scikit-learn para divisão de dados e validação cruzada\n",
        "from sklearn.model_selection import train_test_split, KFold, StratifiedKFold\n",
        "from sklearn.model_selection import cross_val_score, GridSearchCV\n",
        "\n",
        "# Importando métricas de avaliação do Scikit-learn\n",
        "from sklearn.metrics import classification_report, confusion_matrix, accuracy_score\n",
        "\n",
        "# Importando ferramentas para criação de pipelines de aprendizado de máquina\n",
        "from sklearn.pipeline import Pipeline\n",
        "\n",
        "# Importando algoritmos de aprendizado de máquina para classificação\n",
        "from sklearn.linear_model import LogisticRegression\n",
        "from sklearn.tree import DecisionTreeClassifier\n",
        "from sklearn.neighbors import KNeighborsClassifier\n",
        "from sklearn.naive_bayes import GaussianNB\n",
        "from sklearn.svm import SVC\n",
        "\n",
        "# Importando algoritmos de ensemble para aprendizado de máquina\n",
        "from sklearn.ensemble import (BaggingClassifier, RandomForestClassifier,\n",
        "                              ExtraTreesClassifier, VotingClassifier,\n",
        "                              AdaBoostClassifier, GradientBoostingClassifier)\n",
        "\n",
        "# Importando o módulo datetime\n",
        "import datetime"
      ]
    },
    {
      "cell_type": "code",
      "execution_count": 2,
      "metadata": {
        "id": "Hpi6yqhM8shh"
      },
      "outputs": [],
      "source": [
        "# Configuração para Supressão de Warnings\n",
        "\n",
        "# Importando o módulo de warnings\n",
        "import warnings\n",
        "\n",
        "# Configurando o filtro para ignorar os avisos exibidos\n",
        "# Isso é útil para manter a saída do notebook mais limpa e evitar distrações com avisos que não afetam a análise\n",
        "warnings.filterwarnings(\"ignore\")"
      ]
    },
    {
      "cell_type": "markdown",
      "metadata": {
        "id": "9QRU7k3lZWoS"
      },
      "source": [
        "###Carregamento dos Dados de Notificações de Dengue\n",
        "\n",
        "\n",
        "**Carregamento e Visualização Inicial dos Dados:**\n",
        "Neste segmento do projeto, focamos no carregamento do dataset com as notificações de casos de dengue em Votuporanga - SP.\n",
        "O dataset, no formato de uma planilha Excel, será carregado no Google Colab para facilitar a manipulação e análise.\n",
        "\n",
        "**Etapas do Carregamento:**\n",
        "\n",
        "**1. Upload do Arquivo CSV:**\n",
        "   - O arquivo csv contendo os dados é primeiramente carregado no ambiente do Google Colab.\n",
        "   - Este passo assegura que os dados estejam acessíveis para as etapas subsequentes de análise.\n",
        "\n",
        "**2. Utilização do Pandas para Leitura dos Dados:**\n",
        "   - Utilizamos a biblioteca Pandas para carregar os dados do arquivo csv em um DataFrame.\n",
        "   - O DataFrame, uma estrutura de dados bidimensional semelhante a uma tabela, é ideal para a manipulação e análise de dados.\n",
        "\n",
        "**3. Visualização Inicial dos Dados**:\n",
        "   - Com o dataset carregado, exibimos as primeiras linhas do DataFrame.\n",
        "   - Esta visualização inicial nos oferece uma compreensão preliminar da estrutura e conteúdo dos dados.\n"
      ]
    },
    {
      "cell_type": "code",
      "execution_count": 3,
      "metadata": {
        "colab": {
          "base_uri": "https://localhost:8080/"
        },
        "id": "3yAJe6kDcbMr",
        "outputId": "c45ae26a-1d71-4132-93cc-9d7a94f63294"
      },
      "outputs": [
        {
          "output_type": "stream",
          "name": "stdout",
          "text": [
            "  Carimbo de data/hora UNIDADE NOTIFICADORA  UNIDADE DE SAÚDE  NÚMERO DO SINAN               NOME DO PACIENTE D/N PACIENTE IDADE         ENDEREÇO NÚMERO                            BAIRRO      TELEFONE DATA DA NOTIFICAÇÃO DATA DO 1º SINTOMAS AGENDAMENTO DA COLETA DE EXAME VIAJOU NOS ÚLTIMOS 15 DIAS? PARA ONDE VIAJOU? PERÍODO EM QUE VIAJOU (ENTRE QUAIS DATAS) TEVE DENGUE VACINA DE FEBRE AMARELA PROVA DO LAÇO TESTE RAPIDO    OCUPAÇÃO LOCAL E ENDEREÇO OCUPAÇÃO?                SINAIS E SINTOMAS CLASSIFICAÇÃO DE RISCO  Nº DA NOTIFICAÇÃO AVALIAÇÃO DE ENCERRAMENTO (DENGUE) AUTOCTONIA MOTIVO MUDANÇA DE DIAGNÓSTICO (DENGUE) DATA DA COLETA EXAME DATA DO ENCERRAMENTO DA NOTIFICAÇÃO chikungunya      ZIKA QUADRA PERÍODO DE VIREMIA -INICIAL PERÍODO DE VIREMIA - FINAL  6 - CHIKUNGUNYA POSITIVO  7 - CHIKUNGUNYA NEGATIVO  8 - CHIKUNGUNYA EM ANDAMENTO  13 - CHIKUNGUNYA INCONCLUSIVO  15 - CHIKUNGUNYA DESCARTADO  \\\n",
            "0  01/01/2023 20:55:43           PA POZZOBON         POZZOBON           733556      Marilice da Silva Manhami   26/01/1977    45   RENATO FONSECA    2576  Parque Residencial Santa Amélia   17997232001          01/01/2023          28/12/2022                     06/01/2023                         SIM        Não consta                                Não consta         SIM                     SIM      NEGATIVO     IGNORADO  Professora                 Não consta                MIALGIA, CEFALEIA                      A                1.0                343 Dias (Negativo)        SIM                                    NaN                  NaN                          13/01/2023    343 Dias  343 Dias    239                  27/12/2022                 01/01/2023                                                NaN                                                                                              \n",
            "1  01/01/2023 21:01:44           PA POZZOBON         POZZOBON           733557        Wellington José Pereira   09/04/2003    19   RENATO FONSECA    3151  Parque Residencial Santa Amélia   17992119042          01/01/2023          01/01/2023                     06/01/2023                         NÃO        Não consta                                Não consta         NÃO                     SIM      NEGATIVO     IGNORADO   Repositor                 Não consta          FEBRE, MIALGIA, NAUSEAS                      A                2.0                            96 dias        SIM                                    NaN                  NaN                          19/01/2023    339 Dias  339 Dias    210                  31/12/2022                 05/01/2023                                                NaN                                                                                              \n",
            "2  01/01/2023 23:54:49           PA POZZOBON         PRÓ POVO           733558  CAROLINE CONCEIÇAO FERNANDES    08/12/1999    23     RIO COLORADO    2360                        POZZOBON   17-992822519          01/01/2023          28/12/2022                     05/01/2023                         NÃO                 .                                         .         NÃO                     NÃO      NEGATIVO          NÃO     DO LAR                     DO LAR            FEBRE, MIALGIA, VOMITO                      A                3.0                343 Dias (Negativo)        SIM                                    NaN           05/01/2023                          09/01/2023    343 Dias  343 Dias    356                  27/12/2022                 01/01/2023                                                NaN                                                                                              \n",
            "3  02/01/2023 04:24:43         CASA DE SAUDE     JARDIM MARIN           733559          JOSE MARCIO RODRIGUES   14/05/1971    51     DANIEL MARIN    5998                   PORTAL DO SOL   17-992479641          01/01/2023          01/01/2023                     09/01/2023                         NÃO                 .                                         .         NÃO                     SIM      NEGATIVO          NÃO           .                          .  FEBRE, MIALGIA, VOMITO, NAUSEAS                      A                4.0     339 Dias (Descartado Crit. CE)        SIM                                    NaN                  NaN                          19/01/2023    339 Dias  339 Dias   1469                  31/12/2022                 05/01/2023                                                NaN                                                                                              \n",
            "4  02/01/2023 09:36:05         CASA DE SAUDE              NaN           723033   Antonio Kazumi Oliveira Ito    02/03/2022    09  ARISTIDES GALLO    5179                          Cecap 2   17991166232          31/12/2022          27/12/2022                            NaN                         NÃO               NaN                               Não viajou          NÃO                     NÃO      NEGATIVO          SIM      Menor                 Residência                             FEBRE                      A                5.0     344 Dias (Descartado Crit. CE)        SIM                           NS1 NEGATIVO                  NaN                          11/01/2023    344 Dias  344 Dias    523                  26/12/2022                 31/12/2022                                                NaN                                                                                              \n",
            "\n",
            "   1 - POSITIVO (LABOR.)        2 - NEGATIVO     3 - MUDANÇA DE DIAGNÓSTICO      4 - POSITIVO (CLÍNICO EPID.)    5 -DESCARTADO CRIT.CE  14 - INDETERMINADO  10 - ZIKA POSITIVO               11 - ZIKA NEGATIVO                12 - EM ANDAMENTO          16 - CLIN. EPID. POSITIVO         17 - CLIN. EPID. NEGATIVO           18 - DESCARTADO ALTERAÇÕES FEITAS (CAMPOS)  \n",
            "0                                                2.0                                                                                                                                                      NaN                                                                                                                                                          NaN  \n",
            "1                                                5.0                                                                                                                                                      NaN                                                                                                                                                          NaN  \n",
            "2                                                2.0                                                                                                                                                      NaN                                                                                                                                                          NaN  \n",
            "3                                                5.0                                                                                                                                                      NaN                                                                                                                                                          NaN  \n",
            "4                                                5.0                                                                                                                                                      NaN                                                                                                                                                          NaN  \n"
          ]
        }
      ],
      "source": [
        "# Carregamento do Dataset de Notificações de Dengue\n",
        "\n",
        "\"\"\"\n",
        "Carregando os Dados para o DataFrame:\n",
        "Nesta parte do projeto, realizamos o carregamento efetivo do arquivo contendo as notificações de dengue.\n",
        "O processo é realizado diretamente no Google Colab para eficiência e conveniência.\n",
        "\n",
        "Passos do Carregamento:\n",
        "\n",
        "1. Upload do Arquivo:\n",
        "   - Iniciamos o upload do arquivo através da interface do Google Colab.\n",
        "   - Este arquivo contém os dados cruciais para nossa análise.\n",
        "\n",
        "2. Leitura dos Dados:\n",
        "   - Após o upload, lemos o arquivo e carregamos os dados em um DataFrame do Pandas.\n",
        "\n",
        "3. Configurações de Exibição do Pandas:\n",
        "   - Ajustamos as configurações de exibição do Pandas para facilitar a visualização dos dados.\n",
        "   - Configuramos para mostrar todas as colunas e um número apropriado de linhas.\n",
        "\n",
        "4. Visualização Inicial:\n",
        "   - Exibimos as primeiras linhas do DataFrame para obter uma visão geral dos dados.\n",
        "   - Isso nos ajuda a entender a estrutura básica do dataset.\n",
        "\"\"\"\n",
        "\n",
        "# Carrega arquivo csv usando Pandas usando uma URL\n",
        "\n",
        "# Informa a URL de importação do dataset\n",
        "url = \"https://raw.githubusercontent.com/afsavazi/MVP---PUC-RIO---Analise-de-Dados-e-Boas-Praticas/main/Suspeito%20de%20Dengue%20Votuporanga%20-%20SP%20MPV.csv\"\n",
        "\n",
        "# Lê o arquivo utilizando as colunas informadas\n",
        "dataset = pd.read_csv(url, delimiter=',')\n",
        "\n",
        "# Configurando opções de exibição do DataFrame\n",
        "pd.set_option('display.max_columns', 40)  # Aumentando o número máximo de colunas visíveis\n",
        "pd.set_option('display.width', 1000)      # Ajustando a largura da exibição\n",
        "pd.set_option('display.max_rows', 10)     # Ajustando o número máximo de linhas visíveis\n",
        "\n",
        "# Exibindo as primeiras linhas do dataset\n",
        "print(dataset.head())"
      ]
    },
    {
      "cell_type": "markdown",
      "metadata": {
        "id": "wocSxmNiMPqI"
      },
      "source": [
        "###Análise de Dados do Dataset de Notificações de Dengue\n",
        "\n",
        "\n",
        "**Análise Exploratória Inicial dos Dados:**\n",
        "Na análise de dados de notificações de dengue de Votuporanga - SP, nosso objetivo é extrair insights significativos e\n",
        "compreender as tendências e padrões que podem influenciar as estratégias de saúde pública.\n",
        "\n",
        "\n",
        "**Estatísticas Descritivas: Uma Primeira Olhada nos Dados**\n",
        "\n",
        "Nesta fase inicial, focamos em estabelecer um entendimento fundamental sobre os dados. Esta análise descritiva é\n",
        "essencial para avaliar a natureza e a qualidade dos dados disponíveis.\n",
        "\n",
        "\n",
        "**Passos da Análise Descritiva:**\n",
        "\n",
        "**1. Dimensionamento e Estrutura:**\n",
        "   - Avaliamos as dimensões do dataset, incluindo o número de registros (linhas) e atributos (colunas).\n",
        "   - Isso nos dá uma ideia do escopo e tamanho do dataset com o qual estamos trabalhando.\n",
        "\n",
        "**2. Visão Geral das Informações:**\n",
        "   - Examinamos os tipos de dados presentes e identificamos quaisquer valores faltantes.\n",
        "   - Uma revisão da consistência e integridade dos dados é realizada para assegurar a qualidade da análise.\n",
        "\n",
        "**3. Exemplos Iniciais:**\n",
        "   - Visualizamos algumas linhas do dataset para obter uma perspectiva prática dos dados.\n",
        "   - Esta etapa ajuda a identificar peculiaridades, formatos de dados e possíveis anomalias.\n",
        "  "
      ]
    },
    {
      "cell_type": "code",
      "execution_count": 4,
      "metadata": {
        "id": "MBlXAit2MWKP",
        "colab": {
          "base_uri": "https://localhost:8080/"
        },
        "outputId": "d5424b9d-b61b-4f5f-8a4f-7af9bf3c9f3b"
      },
      "outputs": [
        {
          "output_type": "stream",
          "name": "stdout",
          "text": [
            "O dataset contém 4471 registros (linhas) e 40 atributos (colunas).\n",
            "\n",
            "Conhecer as dimensões do dataset é fundamental para entender seu tamanho e complexidade. Essa informação orienta as estratégias de limpeza e análise dos dados, garantindo uma abordagem mais eficaz.\n"
          ]
        }
      ],
      "source": [
        "# Mostrando as Dimensões do Dataset\n",
        "\n",
        "# Calculando o número de linhas e colunas no dataset\n",
        "num_rows, num_cols = dataset.shape\n",
        "print(f\"O dataset contém {num_rows} registros (linhas) e {num_cols} atributos (colunas).\")\n",
        "\n",
        "# Explicando a importância do conhecimento das dimensões do dataset\n",
        "print(\"\\nConhecer as dimensões do dataset é fundamental para entender seu tamanho e complexidade. \" +\n",
        "      \"Essa informação orienta as estratégias de limpeza e análise dos dados, garantindo uma abordagem mais eficaz.\")"
      ]
    },
    {
      "cell_type": "code",
      "execution_count": 5,
      "metadata": {
        "id": "LPskw-ZeP_ay",
        "colab": {
          "base_uri": "https://localhost:8080/"
        },
        "outputId": "d5660352-16d4-491a-ba38-eb0b20fd2531"
      },
      "outputs": [
        {
          "output_type": "stream",
          "name": "stdout",
          "text": [
            "Informações Detalhadas do Dataset:\n",
            "\n",
            "<class 'pandas.core.frame.DataFrame'>\n",
            "RangeIndex: 4471 entries, 0 to 4470\n",
            "Data columns (total 40 columns):\n",
            " #   Column                                                                                                                                                                               Non-Null Count  Dtype  \n",
            "---  ------                                                                                                                                                                               --------------  -----  \n",
            " 0   Carimbo de data/hora                                                                                                                                                                 4471 non-null   object \n",
            " 1   UNIDADE NOTIFICADORA                                                                                                                                                                 4023 non-null   object \n",
            " 2   UNIDADE DE SAÚDE                                                                                                                                                                     2398 non-null   object \n",
            " 3   NÚMERO DO SINAN                                                                                                                                                                      4471 non-null   int64  \n",
            " 4   NOME DO PACIENTE                                                                                                                                                                     4471 non-null   object \n",
            " 5   D/N PACIENTE                                                                                                                                                                         4471 non-null   object \n",
            " 6   IDADE                                                                                                                                                                                4471 non-null   object \n",
            " 7   ENDEREÇO                                                                                                                                                                             4470 non-null   object \n",
            " 8   NÚMERO                                                                                                                                                                               4462 non-null   object \n",
            " 9   BAIRRO                                                                                                                                                                               4469 non-null   object \n",
            " 10  TELEFONE                                                                                                                                                                             4471 non-null   object \n",
            " 11  DATA DA NOTIFICAÇÃO                                                                                                                                                                  4471 non-null   object \n",
            " 12  DATA DO 1º SINTOMAS                                                                                                                                                                  4471 non-null   object \n",
            " 13  AGENDAMENTO DA COLETA DE EXAME                                                                                                                                                       2772 non-null   object \n",
            " 14  VIAJOU NOS ÚLTIMOS 15 DIAS?                                                                                                                                                          4471 non-null   object \n",
            " 15  PARA ONDE VIAJOU?                                                                                                                                                                    1773 non-null   object \n",
            " 16  PERÍODO EM QUE VIAJOU (ENTRE QUAIS DATAS)                                                                                                                                            4470 non-null   object \n",
            " 17  TEVE DENGUE                                                                                                                                                                          4471 non-null   object \n",
            " 18  VACINA DE FEBRE AMARELA                                                                                                                                                              4471 non-null   object \n",
            " 19  PROVA DO LAÇO                                                                                                                                                                        4471 non-null   object \n",
            " 20  TESTE RAPIDO                                                                                                                                                                         3245 non-null   object \n",
            " 21  OCUPAÇÃO                                                                                                                                                                             4471 non-null   object \n",
            " 22  LOCAL E ENDEREÇO OCUPAÇÃO?                                                                                                                                                           4470 non-null   object \n",
            " 23  SINAIS E SINTOMAS                                                                                                                                                                    4471 non-null   object \n",
            " 24  CLASSIFICAÇÃO DE RISCO                                                                                                                                                               4471 non-null   object \n",
            " 25  Nº DA NOTIFICAÇÃO                                                                                                                                                                    4470 non-null   float64\n",
            " 26  AVALIAÇÃO DE ENCERRAMENTO (DENGUE)                                                                                                                                                   4470 non-null   object \n",
            " 27  AUTOCTONIA                                                                                                                                                                           2719 non-null   object \n",
            " 28  MOTIVO MUDANÇA DE DIAGNÓSTICO (DENGUE)                                                                                                                                               759 non-null    object \n",
            " 29  DATA DA COLETA EXAME                                                                                                                                                                 268 non-null    object \n",
            " 30  DATA DO ENCERRAMENTO DA NOTIFICAÇÃO                                                                                                                                                  2426 non-null   object \n",
            " 31  chikungunya                                                                                                                                                                          4470 non-null   object \n",
            " 32  ZIKA                                                                                                                                                                                 4470 non-null   object \n",
            " 33  QUADRA                                                                                                                                                                               3011 non-null   object \n",
            " 34  PERÍODO DE VIREMIA -INICIAL                                                                                                                                                          4469 non-null   object \n",
            " 35  PERÍODO DE VIREMIA - FINAL                                                                                                                                                           4469 non-null   object \n",
            " 36  6 - CHIKUNGUNYA POSITIVO  7 - CHIKUNGUNYA NEGATIVO  8 - CHIKUNGUNYA EM ANDAMENTO  13 - CHIKUNGUNYA INCONCLUSIVO  15 - CHIKUNGUNYA DESCARTADO                                         3 non-null      float64\n",
            " 37  1 - POSITIVO (LABOR.)        2 - NEGATIVO     3 - MUDANÇA DE DIAGNÓSTICO      4 - POSITIVO (CLÍNICO EPID.)    5 -DESCARTADO CRIT.CE  14 - INDETERMINADO                              3914 non-null   float64\n",
            " 38  10 - ZIKA POSITIVO               11 - ZIKA NEGATIVO                12 - EM ANDAMENTO          16 - CLIN. EPID. POSITIVO         17 - CLIN. EPID. NEGATIVO           18 - DESCARTADO  3 non-null      float64\n",
            " 39  ALTERAÇÕES FEITAS (CAMPOS)                                                                                                                                                           123 non-null    object \n",
            "dtypes: float64(4), int64(1), object(35)\n",
            "memory usage: 1.4+ MB\n",
            "\n",
            "As informações detalhadas acima são cruciais para compreender a integridade e a estrutura dos dados. Elas nos ajudam a identificar a necessidade de lidar com dados faltantes e a planejar conversões de tipo de dados, facilitando as etapas futuras de pré-processamento e análise.\n"
          ]
        }
      ],
      "source": [
        "# Exibindo Informações Detalhadas do Dataset\n",
        "\n",
        "# Imprimindo informações sobre o dataset, incluindo contagem de não-nulos e tipos de dados\n",
        "print(\"Informações Detalhadas do Dataset:\\n\")\n",
        "dataset_info = dataset.info()\n",
        "\n",
        "# Comentando sobre a relevância dessas informações\n",
        "print(\"\\nAs informações detalhadas acima são cruciais para compreender a integridade e a estrutura dos dados. \" +\n",
        "      \"Elas nos ajudam a identificar a necessidade de lidar com dados faltantes e a planejar conversões de tipo de dados, \" +\n",
        "      \"facilitando as etapas futuras de pré-processamento e análise.\")"
      ]
    },
    {
      "cell_type": "code",
      "execution_count": 6,
      "metadata": {
        "id": "dPjEcfBpY9XH",
        "colab": {
          "base_uri": "https://localhost:8080/",
          "height": 528
        },
        "outputId": "f7be6b62-220d-4926-84ed-b91a951150bc"
      },
      "outputs": [
        {
          "output_type": "execute_result",
          "data": {
            "text/plain": [
              "  Carimbo de data/hora UNIDADE NOTIFICADORA  UNIDADE DE SAÚDE  NÚMERO DO SINAN               NOME DO PACIENTE D/N PACIENTE IDADE        ENDEREÇO NÚMERO                            BAIRRO      TELEFONE DATA DA NOTIFICAÇÃO DATA DO 1º SINTOMAS AGENDAMENTO DA COLETA DE EXAME VIAJOU NOS ÚLTIMOS 15 DIAS? PARA ONDE VIAJOU? PERÍODO EM QUE VIAJOU (ENTRE QUAIS DATAS) TEVE DENGUE VACINA DE FEBRE AMARELA PROVA DO LAÇO TESTE RAPIDO    OCUPAÇÃO LOCAL E ENDEREÇO OCUPAÇÃO?        SINAIS E SINTOMAS CLASSIFICAÇÃO DE RISCO  Nº DA NOTIFICAÇÃO AVALIAÇÃO DE ENCERRAMENTO (DENGUE) AUTOCTONIA MOTIVO MUDANÇA DE DIAGNÓSTICO (DENGUE) DATA DA COLETA EXAME DATA DO ENCERRAMENTO DA NOTIFICAÇÃO chikungunya      ZIKA QUADRA PERÍODO DE VIREMIA -INICIAL PERÍODO DE VIREMIA - FINAL  6 - CHIKUNGUNYA POSITIVO  7 - CHIKUNGUNYA NEGATIVO  8 - CHIKUNGUNYA EM ANDAMENTO  13 - CHIKUNGUNYA INCONCLUSIVO  15 - CHIKUNGUNYA DESCARTADO  \\\n",
              "0  01/01/2023 20:55:43           PA POZZOBON         POZZOBON           733556      Marilice da Silva Manhami   26/01/1977    45  RENATO FONSECA    2576  Parque Residencial Santa Amélia   17997232001          01/01/2023          28/12/2022                     06/01/2023                         SIM        Não consta                                Não consta         SIM                     SIM      NEGATIVO     IGNORADO  Professora                 Não consta        MIALGIA, CEFALEIA                      A                1.0                343 Dias (Negativo)        SIM                                    NaN                  NaN                          13/01/2023    343 Dias  343 Dias    239                  27/12/2022                 01/01/2023                                                NaN                                                                                              \n",
              "1  01/01/2023 21:01:44           PA POZZOBON         POZZOBON           733557        Wellington José Pereira   09/04/2003    19  RENATO FONSECA    3151  Parque Residencial Santa Amélia   17992119042          01/01/2023          01/01/2023                     06/01/2023                         NÃO        Não consta                                Não consta         NÃO                     SIM      NEGATIVO     IGNORADO   Repositor                 Não consta  FEBRE, MIALGIA, NAUSEAS                      A                2.0                            96 dias        SIM                                    NaN                  NaN                          19/01/2023    339 Dias  339 Dias    210                  31/12/2022                 05/01/2023                                                NaN                                                                                              \n",
              "2  01/01/2023 23:54:49           PA POZZOBON         PRÓ POVO           733558  CAROLINE CONCEIÇAO FERNANDES    08/12/1999    23    RIO COLORADO    2360                        POZZOBON   17-992822519          01/01/2023          28/12/2022                     05/01/2023                         NÃO                 .                                         .         NÃO                     NÃO      NEGATIVO          NÃO     DO LAR                     DO LAR    FEBRE, MIALGIA, VOMITO                      A                3.0                343 Dias (Negativo)        SIM                                    NaN           05/01/2023                          09/01/2023    343 Dias  343 Dias    356                  27/12/2022                 01/01/2023                                                NaN                                                                                              \n",
              "\n",
              "   1 - POSITIVO (LABOR.)        2 - NEGATIVO     3 - MUDANÇA DE DIAGNÓSTICO      4 - POSITIVO (CLÍNICO EPID.)    5 -DESCARTADO CRIT.CE  14 - INDETERMINADO  10 - ZIKA POSITIVO               11 - ZIKA NEGATIVO                12 - EM ANDAMENTO          16 - CLIN. EPID. POSITIVO         17 - CLIN. EPID. NEGATIVO           18 - DESCARTADO ALTERAÇÕES FEITAS (CAMPOS)  \n",
              "0                                                2.0                                                                                                                                                      NaN                                                                                                                                                          NaN  \n",
              "1                                                5.0                                                                                                                                                      NaN                                                                                                                                                          NaN  \n",
              "2                                                2.0                                                                                                                                                      NaN                                                                                                                                                          NaN  "
            ],
            "text/html": [
              "\n",
              "  <div id=\"df-40f9ac0a-26a0-4eec-b923-da2026e2d983\" class=\"colab-df-container\">\n",
              "    <div>\n",
              "<style scoped>\n",
              "    .dataframe tbody tr th:only-of-type {\n",
              "        vertical-align: middle;\n",
              "    }\n",
              "\n",
              "    .dataframe tbody tr th {\n",
              "        vertical-align: top;\n",
              "    }\n",
              "\n",
              "    .dataframe thead th {\n",
              "        text-align: right;\n",
              "    }\n",
              "</style>\n",
              "<table border=\"1\" class=\"dataframe\">\n",
              "  <thead>\n",
              "    <tr style=\"text-align: right;\">\n",
              "      <th></th>\n",
              "      <th>Carimbo de data/hora</th>\n",
              "      <th>UNIDADE NOTIFICADORA</th>\n",
              "      <th>UNIDADE DE SAÚDE</th>\n",
              "      <th>NÚMERO DO SINAN</th>\n",
              "      <th>NOME DO PACIENTE</th>\n",
              "      <th>D/N PACIENTE</th>\n",
              "      <th>IDADE</th>\n",
              "      <th>ENDEREÇO</th>\n",
              "      <th>NÚMERO</th>\n",
              "      <th>BAIRRO</th>\n",
              "      <th>TELEFONE</th>\n",
              "      <th>DATA DA NOTIFICAÇÃO</th>\n",
              "      <th>DATA DO 1º SINTOMAS</th>\n",
              "      <th>AGENDAMENTO DA COLETA DE EXAME</th>\n",
              "      <th>VIAJOU NOS ÚLTIMOS 15 DIAS?</th>\n",
              "      <th>PARA ONDE VIAJOU?</th>\n",
              "      <th>PERÍODO EM QUE VIAJOU (ENTRE QUAIS DATAS)</th>\n",
              "      <th>TEVE DENGUE</th>\n",
              "      <th>VACINA DE FEBRE AMARELA</th>\n",
              "      <th>PROVA DO LAÇO</th>\n",
              "      <th>TESTE RAPIDO</th>\n",
              "      <th>OCUPAÇÃO</th>\n",
              "      <th>LOCAL E ENDEREÇO OCUPAÇÃO?</th>\n",
              "      <th>SINAIS E SINTOMAS</th>\n",
              "      <th>CLASSIFICAÇÃO DE RISCO</th>\n",
              "      <th>Nº DA NOTIFICAÇÃO</th>\n",
              "      <th>AVALIAÇÃO DE ENCERRAMENTO (DENGUE)</th>\n",
              "      <th>AUTOCTONIA</th>\n",
              "      <th>MOTIVO MUDANÇA DE DIAGNÓSTICO (DENGUE)</th>\n",
              "      <th>DATA DA COLETA EXAME</th>\n",
              "      <th>DATA DO ENCERRAMENTO DA NOTIFICAÇÃO</th>\n",
              "      <th>chikungunya</th>\n",
              "      <th>ZIKA</th>\n",
              "      <th>QUADRA</th>\n",
              "      <th>PERÍODO DE VIREMIA -INICIAL</th>\n",
              "      <th>PERÍODO DE VIREMIA - FINAL</th>\n",
              "      <th>6 - CHIKUNGUNYA POSITIVO  7 - CHIKUNGUNYA NEGATIVO  8 - CHIKUNGUNYA EM ANDAMENTO  13 - CHIKUNGUNYA INCONCLUSIVO  15 - CHIKUNGUNYA DESCARTADO</th>\n",
              "      <th>1 - POSITIVO (LABOR.)        2 - NEGATIVO     3 - MUDANÇA DE DIAGNÓSTICO      4 - POSITIVO (CLÍNICO EPID.)    5 -DESCARTADO CRIT.CE  14 - INDETERMINADO</th>\n",
              "      <th>10 - ZIKA POSITIVO               11 - ZIKA NEGATIVO                12 - EM ANDAMENTO          16 - CLIN. EPID. POSITIVO         17 - CLIN. EPID. NEGATIVO           18 - DESCARTADO</th>\n",
              "      <th>ALTERAÇÕES FEITAS (CAMPOS)</th>\n",
              "    </tr>\n",
              "  </thead>\n",
              "  <tbody>\n",
              "    <tr>\n",
              "      <th>0</th>\n",
              "      <td>01/01/2023 20:55:43</td>\n",
              "      <td>PA POZZOBON</td>\n",
              "      <td>POZZOBON</td>\n",
              "      <td>733556</td>\n",
              "      <td>Marilice da Silva Manhami</td>\n",
              "      <td>26/01/1977</td>\n",
              "      <td>45</td>\n",
              "      <td>RENATO FONSECA</td>\n",
              "      <td>2576</td>\n",
              "      <td>Parque Residencial Santa Amélia</td>\n",
              "      <td>17997232001</td>\n",
              "      <td>01/01/2023</td>\n",
              "      <td>28/12/2022</td>\n",
              "      <td>06/01/2023</td>\n",
              "      <td>SIM</td>\n",
              "      <td>Não consta</td>\n",
              "      <td>Não consta</td>\n",
              "      <td>SIM</td>\n",
              "      <td>SIM</td>\n",
              "      <td>NEGATIVO</td>\n",
              "      <td>IGNORADO</td>\n",
              "      <td>Professora</td>\n",
              "      <td>Não consta</td>\n",
              "      <td>MIALGIA, CEFALEIA</td>\n",
              "      <td>A</td>\n",
              "      <td>1.0</td>\n",
              "      <td>343 Dias (Negativo)</td>\n",
              "      <td>SIM</td>\n",
              "      <td>NaN</td>\n",
              "      <td>NaN</td>\n",
              "      <td>13/01/2023</td>\n",
              "      <td>343 Dias</td>\n",
              "      <td>343 Dias</td>\n",
              "      <td>239</td>\n",
              "      <td>27/12/2022</td>\n",
              "      <td>01/01/2023</td>\n",
              "      <td>NaN</td>\n",
              "      <td>2.0</td>\n",
              "      <td>NaN</td>\n",
              "      <td>NaN</td>\n",
              "    </tr>\n",
              "    <tr>\n",
              "      <th>1</th>\n",
              "      <td>01/01/2023 21:01:44</td>\n",
              "      <td>PA POZZOBON</td>\n",
              "      <td>POZZOBON</td>\n",
              "      <td>733557</td>\n",
              "      <td>Wellington José Pereira</td>\n",
              "      <td>09/04/2003</td>\n",
              "      <td>19</td>\n",
              "      <td>RENATO FONSECA</td>\n",
              "      <td>3151</td>\n",
              "      <td>Parque Residencial Santa Amélia</td>\n",
              "      <td>17992119042</td>\n",
              "      <td>01/01/2023</td>\n",
              "      <td>01/01/2023</td>\n",
              "      <td>06/01/2023</td>\n",
              "      <td>NÃO</td>\n",
              "      <td>Não consta</td>\n",
              "      <td>Não consta</td>\n",
              "      <td>NÃO</td>\n",
              "      <td>SIM</td>\n",
              "      <td>NEGATIVO</td>\n",
              "      <td>IGNORADO</td>\n",
              "      <td>Repositor</td>\n",
              "      <td>Não consta</td>\n",
              "      <td>FEBRE, MIALGIA, NAUSEAS</td>\n",
              "      <td>A</td>\n",
              "      <td>2.0</td>\n",
              "      <td>96 dias</td>\n",
              "      <td>SIM</td>\n",
              "      <td>NaN</td>\n",
              "      <td>NaN</td>\n",
              "      <td>19/01/2023</td>\n",
              "      <td>339 Dias</td>\n",
              "      <td>339 Dias</td>\n",
              "      <td>210</td>\n",
              "      <td>31/12/2022</td>\n",
              "      <td>05/01/2023</td>\n",
              "      <td>NaN</td>\n",
              "      <td>5.0</td>\n",
              "      <td>NaN</td>\n",
              "      <td>NaN</td>\n",
              "    </tr>\n",
              "    <tr>\n",
              "      <th>2</th>\n",
              "      <td>01/01/2023 23:54:49</td>\n",
              "      <td>PA POZZOBON</td>\n",
              "      <td>PRÓ POVO</td>\n",
              "      <td>733558</td>\n",
              "      <td>CAROLINE CONCEIÇAO FERNANDES</td>\n",
              "      <td>08/12/1999</td>\n",
              "      <td>23</td>\n",
              "      <td>RIO COLORADO</td>\n",
              "      <td>2360</td>\n",
              "      <td>POZZOBON</td>\n",
              "      <td>17-992822519</td>\n",
              "      <td>01/01/2023</td>\n",
              "      <td>28/12/2022</td>\n",
              "      <td>05/01/2023</td>\n",
              "      <td>NÃO</td>\n",
              "      <td>.</td>\n",
              "      <td>.</td>\n",
              "      <td>NÃO</td>\n",
              "      <td>NÃO</td>\n",
              "      <td>NEGATIVO</td>\n",
              "      <td>NÃO</td>\n",
              "      <td>DO LAR</td>\n",
              "      <td>DO LAR</td>\n",
              "      <td>FEBRE, MIALGIA, VOMITO</td>\n",
              "      <td>A</td>\n",
              "      <td>3.0</td>\n",
              "      <td>343 Dias (Negativo)</td>\n",
              "      <td>SIM</td>\n",
              "      <td>NaN</td>\n",
              "      <td>05/01/2023</td>\n",
              "      <td>09/01/2023</td>\n",
              "      <td>343 Dias</td>\n",
              "      <td>343 Dias</td>\n",
              "      <td>356</td>\n",
              "      <td>27/12/2022</td>\n",
              "      <td>01/01/2023</td>\n",
              "      <td>NaN</td>\n",
              "      <td>2.0</td>\n",
              "      <td>NaN</td>\n",
              "      <td>NaN</td>\n",
              "    </tr>\n",
              "  </tbody>\n",
              "</table>\n",
              "</div>\n",
              "    <div class=\"colab-df-buttons\">\n",
              "\n",
              "  <div class=\"colab-df-container\">\n",
              "    <button class=\"colab-df-convert\" onclick=\"convertToInteractive('df-40f9ac0a-26a0-4eec-b923-da2026e2d983')\"\n",
              "            title=\"Convert this dataframe to an interactive table.\"\n",
              "            style=\"display:none;\">\n",
              "\n",
              "  <svg xmlns=\"http://www.w3.org/2000/svg\" height=\"24px\" viewBox=\"0 -960 960 960\">\n",
              "    <path d=\"M120-120v-720h720v720H120Zm60-500h600v-160H180v160Zm220 220h160v-160H400v160Zm0 220h160v-160H400v160ZM180-400h160v-160H180v160Zm440 0h160v-160H620v160ZM180-180h160v-160H180v160Zm440 0h160v-160H620v160Z\"/>\n",
              "  </svg>\n",
              "    </button>\n",
              "\n",
              "  <style>\n",
              "    .colab-df-container {\n",
              "      display:flex;\n",
              "      gap: 12px;\n",
              "    }\n",
              "\n",
              "    .colab-df-convert {\n",
              "      background-color: #E8F0FE;\n",
              "      border: none;\n",
              "      border-radius: 50%;\n",
              "      cursor: pointer;\n",
              "      display: none;\n",
              "      fill: #1967D2;\n",
              "      height: 32px;\n",
              "      padding: 0 0 0 0;\n",
              "      width: 32px;\n",
              "    }\n",
              "\n",
              "    .colab-df-convert:hover {\n",
              "      background-color: #E2EBFA;\n",
              "      box-shadow: 0px 1px 2px rgba(60, 64, 67, 0.3), 0px 1px 3px 1px rgba(60, 64, 67, 0.15);\n",
              "      fill: #174EA6;\n",
              "    }\n",
              "\n",
              "    .colab-df-buttons div {\n",
              "      margin-bottom: 4px;\n",
              "    }\n",
              "\n",
              "    [theme=dark] .colab-df-convert {\n",
              "      background-color: #3B4455;\n",
              "      fill: #D2E3FC;\n",
              "    }\n",
              "\n",
              "    [theme=dark] .colab-df-convert:hover {\n",
              "      background-color: #434B5C;\n",
              "      box-shadow: 0px 1px 3px 1px rgba(0, 0, 0, 0.15);\n",
              "      filter: drop-shadow(0px 1px 2px rgba(0, 0, 0, 0.3));\n",
              "      fill: #FFFFFF;\n",
              "    }\n",
              "  </style>\n",
              "\n",
              "    <script>\n",
              "      const buttonEl =\n",
              "        document.querySelector('#df-40f9ac0a-26a0-4eec-b923-da2026e2d983 button.colab-df-convert');\n",
              "      buttonEl.style.display =\n",
              "        google.colab.kernel.accessAllowed ? 'block' : 'none';\n",
              "\n",
              "      async function convertToInteractive(key) {\n",
              "        const element = document.querySelector('#df-40f9ac0a-26a0-4eec-b923-da2026e2d983');\n",
              "        const dataTable =\n",
              "          await google.colab.kernel.invokeFunction('convertToInteractive',\n",
              "                                                    [key], {});\n",
              "        if (!dataTable) return;\n",
              "\n",
              "        const docLinkHtml = 'Like what you see? Visit the ' +\n",
              "          '<a target=\"_blank\" href=https://colab.research.google.com/notebooks/data_table.ipynb>data table notebook</a>'\n",
              "          + ' to learn more about interactive tables.';\n",
              "        element.innerHTML = '';\n",
              "        dataTable['output_type'] = 'display_data';\n",
              "        await google.colab.output.renderOutput(dataTable, element);\n",
              "        const docLink = document.createElement('div');\n",
              "        docLink.innerHTML = docLinkHtml;\n",
              "        element.appendChild(docLink);\n",
              "      }\n",
              "    </script>\n",
              "  </div>\n",
              "\n",
              "\n",
              "<div id=\"df-ee340b35-69e9-418a-99ed-2ba1e3cb42a8\">\n",
              "  <button class=\"colab-df-quickchart\" onclick=\"quickchart('df-ee340b35-69e9-418a-99ed-2ba1e3cb42a8')\"\n",
              "            title=\"Suggest charts\"\n",
              "            style=\"display:none;\">\n",
              "\n",
              "<svg xmlns=\"http://www.w3.org/2000/svg\" height=\"24px\"viewBox=\"0 0 24 24\"\n",
              "     width=\"24px\">\n",
              "    <g>\n",
              "        <path d=\"M19 3H5c-1.1 0-2 .9-2 2v14c0 1.1.9 2 2 2h14c1.1 0 2-.9 2-2V5c0-1.1-.9-2-2-2zM9 17H7v-7h2v7zm4 0h-2V7h2v10zm4 0h-2v-4h2v4z\"/>\n",
              "    </g>\n",
              "</svg>\n",
              "  </button>\n",
              "\n",
              "<style>\n",
              "  .colab-df-quickchart {\n",
              "      --bg-color: #E8F0FE;\n",
              "      --fill-color: #1967D2;\n",
              "      --hover-bg-color: #E2EBFA;\n",
              "      --hover-fill-color: #174EA6;\n",
              "      --disabled-fill-color: #AAA;\n",
              "      --disabled-bg-color: #DDD;\n",
              "  }\n",
              "\n",
              "  [theme=dark] .colab-df-quickchart {\n",
              "      --bg-color: #3B4455;\n",
              "      --fill-color: #D2E3FC;\n",
              "      --hover-bg-color: #434B5C;\n",
              "      --hover-fill-color: #FFFFFF;\n",
              "      --disabled-bg-color: #3B4455;\n",
              "      --disabled-fill-color: #666;\n",
              "  }\n",
              "\n",
              "  .colab-df-quickchart {\n",
              "    background-color: var(--bg-color);\n",
              "    border: none;\n",
              "    border-radius: 50%;\n",
              "    cursor: pointer;\n",
              "    display: none;\n",
              "    fill: var(--fill-color);\n",
              "    height: 32px;\n",
              "    padding: 0;\n",
              "    width: 32px;\n",
              "  }\n",
              "\n",
              "  .colab-df-quickchart:hover {\n",
              "    background-color: var(--hover-bg-color);\n",
              "    box-shadow: 0 1px 2px rgba(60, 64, 67, 0.3), 0 1px 3px 1px rgba(60, 64, 67, 0.15);\n",
              "    fill: var(--button-hover-fill-color);\n",
              "  }\n",
              "\n",
              "  .colab-df-quickchart-complete:disabled,\n",
              "  .colab-df-quickchart-complete:disabled:hover {\n",
              "    background-color: var(--disabled-bg-color);\n",
              "    fill: var(--disabled-fill-color);\n",
              "    box-shadow: none;\n",
              "  }\n",
              "\n",
              "  .colab-df-spinner {\n",
              "    border: 2px solid var(--fill-color);\n",
              "    border-color: transparent;\n",
              "    border-bottom-color: var(--fill-color);\n",
              "    animation:\n",
              "      spin 1s steps(1) infinite;\n",
              "  }\n",
              "\n",
              "  @keyframes spin {\n",
              "    0% {\n",
              "      border-color: transparent;\n",
              "      border-bottom-color: var(--fill-color);\n",
              "      border-left-color: var(--fill-color);\n",
              "    }\n",
              "    20% {\n",
              "      border-color: transparent;\n",
              "      border-left-color: var(--fill-color);\n",
              "      border-top-color: var(--fill-color);\n",
              "    }\n",
              "    30% {\n",
              "      border-color: transparent;\n",
              "      border-left-color: var(--fill-color);\n",
              "      border-top-color: var(--fill-color);\n",
              "      border-right-color: var(--fill-color);\n",
              "    }\n",
              "    40% {\n",
              "      border-color: transparent;\n",
              "      border-right-color: var(--fill-color);\n",
              "      border-top-color: var(--fill-color);\n",
              "    }\n",
              "    60% {\n",
              "      border-color: transparent;\n",
              "      border-right-color: var(--fill-color);\n",
              "    }\n",
              "    80% {\n",
              "      border-color: transparent;\n",
              "      border-right-color: var(--fill-color);\n",
              "      border-bottom-color: var(--fill-color);\n",
              "    }\n",
              "    90% {\n",
              "      border-color: transparent;\n",
              "      border-bottom-color: var(--fill-color);\n",
              "    }\n",
              "  }\n",
              "</style>\n",
              "\n",
              "  <script>\n",
              "    async function quickchart(key) {\n",
              "      const quickchartButtonEl =\n",
              "        document.querySelector('#' + key + ' button');\n",
              "      quickchartButtonEl.disabled = true;  // To prevent multiple clicks.\n",
              "      quickchartButtonEl.classList.add('colab-df-spinner');\n",
              "      try {\n",
              "        const charts = await google.colab.kernel.invokeFunction(\n",
              "            'suggestCharts', [key], {});\n",
              "      } catch (error) {\n",
              "        console.error('Error during call to suggestCharts:', error);\n",
              "      }\n",
              "      quickchartButtonEl.classList.remove('colab-df-spinner');\n",
              "      quickchartButtonEl.classList.add('colab-df-quickchart-complete');\n",
              "    }\n",
              "    (() => {\n",
              "      let quickchartButtonEl =\n",
              "        document.querySelector('#df-ee340b35-69e9-418a-99ed-2ba1e3cb42a8 button');\n",
              "      quickchartButtonEl.style.display =\n",
              "        google.colab.kernel.accessAllowed ? 'block' : 'none';\n",
              "    })();\n",
              "  </script>\n",
              "</div>\n",
              "    </div>\n",
              "  </div>\n"
            ]
          },
          "metadata": {},
          "execution_count": 6
        }
      ],
      "source": [
        "# Visualizando as Primeiras Linhas do Dataset\n",
        "\n",
        "# Exibindo as três primeiras linhas do dataset para uma visão inicial dos dados\n",
        "# Esta visualização ajuda a ter uma ideia concreta do formato dos dados, dos tipos de variáveis presentes\n",
        "# e de quaisquer peculiaridades ou inconsistências iniciais que possam requerer atenção.\n",
        "dataset.head(3)\n"
      ]
    },
    {
      "cell_type": "code",
      "execution_count": 7,
      "metadata": {
        "id": "tfFCm1CPZCM_",
        "colab": {
          "base_uri": "https://localhost:8080/",
          "height": 580
        },
        "outputId": "9c6881ad-578d-4db7-f3bc-05fd976a0fbe"
      },
      "outputs": [
        {
          "output_type": "execute_result",
          "data": {
            "text/plain": [
              "     Carimbo de data/hora UNIDADE NOTIFICADORA  UNIDADE DE SAÚDE  NÚMERO DO SINAN                   NOME DO PACIENTE D/N PACIENTE IDADE          ENDEREÇO NÚMERO                  BAIRRO     TELEFONE DATA DA NOTIFICAÇÃO DATA DO 1º SINTOMAS AGENDAMENTO DA COLETA DE EXAME VIAJOU NOS ÚLTIMOS 15 DIAS? PARA ONDE VIAJOU? PERÍODO EM QUE VIAJOU (ENTRE QUAIS DATAS) TEVE DENGUE VACINA DE FEBRE AMARELA PROVA DO LAÇO   TESTE RAPIDO      OCUPAÇÃO LOCAL E ENDEREÇO OCUPAÇÃO?                                  SINAIS E SINTOMAS CLASSIFICAÇÃO DE RISCO  Nº DA NOTIFICAÇÃO AVALIAÇÃO DE ENCERRAMENTO (DENGUE) AUTOCTONIA MOTIVO MUDANÇA DE DIAGNÓSTICO (DENGUE) DATA DA COLETA EXAME DATA DO ENCERRAMENTO DA NOTIFICAÇÃO chikungunya    ZIKA     QUADRA PERÍODO DE VIREMIA -INICIAL PERÍODO DE VIREMIA - FINAL  6 - CHIKUNGUNYA POSITIVO  7 - CHIKUNGUNYA NEGATIVO  8 - CHIKUNGUNYA EM ANDAMENTO  13 - CHIKUNGUNYA INCONCLUSIVO  15 - CHIKUNGUNYA DESCARTADO  \\\n",
              "4468  06/12/2023 10:45:37           PA POZZOBON         SÃO JOÃO          1922039  CARLA ZAMFORLIN MILLER DOS SANTOS   09/12/1984    38              IVAI    1911        JARDIM ELDORADO  17991459328          06/12/2023          05/12/2023                     11/12/2023                         NÃO              NEGA                                      NEGA         SIM                     SIM      NEGATIVO       NEGATIVO    COZINHEIRA                    ROSEIRA                         MIALGIA, CEFALEIA, NAUSEAS                      A             4469.0                             1 Dias        NaN                                    NaN                  NaN                                 NaN      1 Dias  1 Dias  1807/1808                  04/12/2023                 09/12/2023                                                NaN                                                                                              \n",
              "4469  06/12/2023 13:36:03                   UPA              NaN          1928286            VINICIUS CRISTIANO DIAS   15/03/1994    29    RIO DE JANEIRO    1787  CHACARA DAS PAINEIRAS  17982156584          06/12/2023          05/12/2023                     12/12/2023                         NÃO               NaN                                         -         NÃO                     SIM      NEGATIVO            NaN    marmorists                          -  FEBRE, MIALGIA, CEFALEIA, VOMITO, DOR RETROORB...                      A             4470.0                             1 Dias        NaN                                    NaN                  NaN                                 NaN      1 Dias  1 Dias        808                         NaN                        NaN                                                NaN                                                                                              \n",
              "4470  06/12/2023 15:38:44                   UPA     JARDIM MARIN          1928285           TIAGO DE LIMA DOS SANTOS   14/11/2001    22  ANGELO PETENUCCI    6449         santa felicia   17997941468          06/12/2023          03/12/2023                     11/12/2023                         NÃO               NaN                                                   NÃO                     SIM      NEGATIVO  NÂO REALIZADO   açougueiro                                                      MIALGIA, CEFALEIA, VOMITO                      A                NaN                                NaN        NaN                                    NaN                  NaN                                 NaN         NaN     NaN        NaN                         NaN                        NaN                                                NaN                                                                                              \n",
              "\n",
              "      1 - POSITIVO (LABOR.)        2 - NEGATIVO     3 - MUDANÇA DE DIAGNÓSTICO      4 - POSITIVO (CLÍNICO EPID.)    5 -DESCARTADO CRIT.CE  14 - INDETERMINADO  10 - ZIKA POSITIVO               11 - ZIKA NEGATIVO                12 - EM ANDAMENTO          16 - CLIN. EPID. POSITIVO         17 - CLIN. EPID. NEGATIVO           18 - DESCARTADO ALTERAÇÕES FEITAS (CAMPOS)  \n",
              "4468                                                NaN                                                                                                                                                      NaN                                                                                                                                                          NaN  \n",
              "4469                                                NaN                                                                                                                                                      NaN                                                                                                                                                          NaN  \n",
              "4470                                                NaN                                                                                                                                                      NaN                                                                                                                                                          NaN  "
            ],
            "text/html": [
              "\n",
              "  <div id=\"df-c10ff6c0-48cb-4401-85c5-27c01ab16300\" class=\"colab-df-container\">\n",
              "    <div>\n",
              "<style scoped>\n",
              "    .dataframe tbody tr th:only-of-type {\n",
              "        vertical-align: middle;\n",
              "    }\n",
              "\n",
              "    .dataframe tbody tr th {\n",
              "        vertical-align: top;\n",
              "    }\n",
              "\n",
              "    .dataframe thead th {\n",
              "        text-align: right;\n",
              "    }\n",
              "</style>\n",
              "<table border=\"1\" class=\"dataframe\">\n",
              "  <thead>\n",
              "    <tr style=\"text-align: right;\">\n",
              "      <th></th>\n",
              "      <th>Carimbo de data/hora</th>\n",
              "      <th>UNIDADE NOTIFICADORA</th>\n",
              "      <th>UNIDADE DE SAÚDE</th>\n",
              "      <th>NÚMERO DO SINAN</th>\n",
              "      <th>NOME DO PACIENTE</th>\n",
              "      <th>D/N PACIENTE</th>\n",
              "      <th>IDADE</th>\n",
              "      <th>ENDEREÇO</th>\n",
              "      <th>NÚMERO</th>\n",
              "      <th>BAIRRO</th>\n",
              "      <th>TELEFONE</th>\n",
              "      <th>DATA DA NOTIFICAÇÃO</th>\n",
              "      <th>DATA DO 1º SINTOMAS</th>\n",
              "      <th>AGENDAMENTO DA COLETA DE EXAME</th>\n",
              "      <th>VIAJOU NOS ÚLTIMOS 15 DIAS?</th>\n",
              "      <th>PARA ONDE VIAJOU?</th>\n",
              "      <th>PERÍODO EM QUE VIAJOU (ENTRE QUAIS DATAS)</th>\n",
              "      <th>TEVE DENGUE</th>\n",
              "      <th>VACINA DE FEBRE AMARELA</th>\n",
              "      <th>PROVA DO LAÇO</th>\n",
              "      <th>TESTE RAPIDO</th>\n",
              "      <th>OCUPAÇÃO</th>\n",
              "      <th>LOCAL E ENDEREÇO OCUPAÇÃO?</th>\n",
              "      <th>SINAIS E SINTOMAS</th>\n",
              "      <th>CLASSIFICAÇÃO DE RISCO</th>\n",
              "      <th>Nº DA NOTIFICAÇÃO</th>\n",
              "      <th>AVALIAÇÃO DE ENCERRAMENTO (DENGUE)</th>\n",
              "      <th>AUTOCTONIA</th>\n",
              "      <th>MOTIVO MUDANÇA DE DIAGNÓSTICO (DENGUE)</th>\n",
              "      <th>DATA DA COLETA EXAME</th>\n",
              "      <th>DATA DO ENCERRAMENTO DA NOTIFICAÇÃO</th>\n",
              "      <th>chikungunya</th>\n",
              "      <th>ZIKA</th>\n",
              "      <th>QUADRA</th>\n",
              "      <th>PERÍODO DE VIREMIA -INICIAL</th>\n",
              "      <th>PERÍODO DE VIREMIA - FINAL</th>\n",
              "      <th>6 - CHIKUNGUNYA POSITIVO  7 - CHIKUNGUNYA NEGATIVO  8 - CHIKUNGUNYA EM ANDAMENTO  13 - CHIKUNGUNYA INCONCLUSIVO  15 - CHIKUNGUNYA DESCARTADO</th>\n",
              "      <th>1 - POSITIVO (LABOR.)        2 - NEGATIVO     3 - MUDANÇA DE DIAGNÓSTICO      4 - POSITIVO (CLÍNICO EPID.)    5 -DESCARTADO CRIT.CE  14 - INDETERMINADO</th>\n",
              "      <th>10 - ZIKA POSITIVO               11 - ZIKA NEGATIVO                12 - EM ANDAMENTO          16 - CLIN. EPID. POSITIVO         17 - CLIN. EPID. NEGATIVO           18 - DESCARTADO</th>\n",
              "      <th>ALTERAÇÕES FEITAS (CAMPOS)</th>\n",
              "    </tr>\n",
              "  </thead>\n",
              "  <tbody>\n",
              "    <tr>\n",
              "      <th>4468</th>\n",
              "      <td>06/12/2023 10:45:37</td>\n",
              "      <td>PA POZZOBON</td>\n",
              "      <td>SÃO JOÃO</td>\n",
              "      <td>1922039</td>\n",
              "      <td>CARLA ZAMFORLIN MILLER DOS SANTOS</td>\n",
              "      <td>09/12/1984</td>\n",
              "      <td>38</td>\n",
              "      <td>IVAI</td>\n",
              "      <td>1911</td>\n",
              "      <td>JARDIM ELDORADO</td>\n",
              "      <td>17991459328</td>\n",
              "      <td>06/12/2023</td>\n",
              "      <td>05/12/2023</td>\n",
              "      <td>11/12/2023</td>\n",
              "      <td>NÃO</td>\n",
              "      <td>NEGA</td>\n",
              "      <td>NEGA</td>\n",
              "      <td>SIM</td>\n",
              "      <td>SIM</td>\n",
              "      <td>NEGATIVO</td>\n",
              "      <td>NEGATIVO</td>\n",
              "      <td>COZINHEIRA</td>\n",
              "      <td>ROSEIRA</td>\n",
              "      <td>MIALGIA, CEFALEIA, NAUSEAS</td>\n",
              "      <td>A</td>\n",
              "      <td>4469.0</td>\n",
              "      <td>1 Dias</td>\n",
              "      <td>NaN</td>\n",
              "      <td>NaN</td>\n",
              "      <td>NaN</td>\n",
              "      <td>NaN</td>\n",
              "      <td>1 Dias</td>\n",
              "      <td>1 Dias</td>\n",
              "      <td>1807/1808</td>\n",
              "      <td>04/12/2023</td>\n",
              "      <td>09/12/2023</td>\n",
              "      <td>NaN</td>\n",
              "      <td>NaN</td>\n",
              "      <td>NaN</td>\n",
              "      <td>NaN</td>\n",
              "    </tr>\n",
              "    <tr>\n",
              "      <th>4469</th>\n",
              "      <td>06/12/2023 13:36:03</td>\n",
              "      <td>UPA</td>\n",
              "      <td>NaN</td>\n",
              "      <td>1928286</td>\n",
              "      <td>VINICIUS CRISTIANO DIAS</td>\n",
              "      <td>15/03/1994</td>\n",
              "      <td>29</td>\n",
              "      <td>RIO DE JANEIRO</td>\n",
              "      <td>1787</td>\n",
              "      <td>CHACARA DAS PAINEIRAS</td>\n",
              "      <td>17982156584</td>\n",
              "      <td>06/12/2023</td>\n",
              "      <td>05/12/2023</td>\n",
              "      <td>12/12/2023</td>\n",
              "      <td>NÃO</td>\n",
              "      <td>NaN</td>\n",
              "      <td>-</td>\n",
              "      <td>NÃO</td>\n",
              "      <td>SIM</td>\n",
              "      <td>NEGATIVO</td>\n",
              "      <td>NaN</td>\n",
              "      <td>marmorists</td>\n",
              "      <td>-</td>\n",
              "      <td>FEBRE, MIALGIA, CEFALEIA, VOMITO, DOR RETROORB...</td>\n",
              "      <td>A</td>\n",
              "      <td>4470.0</td>\n",
              "      <td>1 Dias</td>\n",
              "      <td>NaN</td>\n",
              "      <td>NaN</td>\n",
              "      <td>NaN</td>\n",
              "      <td>NaN</td>\n",
              "      <td>1 Dias</td>\n",
              "      <td>1 Dias</td>\n",
              "      <td>808</td>\n",
              "      <td>NaN</td>\n",
              "      <td>NaN</td>\n",
              "      <td>NaN</td>\n",
              "      <td>NaN</td>\n",
              "      <td>NaN</td>\n",
              "      <td>NaN</td>\n",
              "    </tr>\n",
              "    <tr>\n",
              "      <th>4470</th>\n",
              "      <td>06/12/2023 15:38:44</td>\n",
              "      <td>UPA</td>\n",
              "      <td>JARDIM MARIN</td>\n",
              "      <td>1928285</td>\n",
              "      <td>TIAGO DE LIMA DOS SANTOS</td>\n",
              "      <td>14/11/2001</td>\n",
              "      <td>22</td>\n",
              "      <td>ANGELO PETENUCCI</td>\n",
              "      <td>6449</td>\n",
              "      <td>santa felicia</td>\n",
              "      <td>17997941468</td>\n",
              "      <td>06/12/2023</td>\n",
              "      <td>03/12/2023</td>\n",
              "      <td>11/12/2023</td>\n",
              "      <td>NÃO</td>\n",
              "      <td>NaN</td>\n",
              "      <td></td>\n",
              "      <td>NÃO</td>\n",
              "      <td>SIM</td>\n",
              "      <td>NEGATIVO</td>\n",
              "      <td>NÂO REALIZADO</td>\n",
              "      <td>açougueiro</td>\n",
              "      <td></td>\n",
              "      <td>MIALGIA, CEFALEIA, VOMITO</td>\n",
              "      <td>A</td>\n",
              "      <td>NaN</td>\n",
              "      <td>NaN</td>\n",
              "      <td>NaN</td>\n",
              "      <td>NaN</td>\n",
              "      <td>NaN</td>\n",
              "      <td>NaN</td>\n",
              "      <td>NaN</td>\n",
              "      <td>NaN</td>\n",
              "      <td>NaN</td>\n",
              "      <td>NaN</td>\n",
              "      <td>NaN</td>\n",
              "      <td>NaN</td>\n",
              "      <td>NaN</td>\n",
              "      <td>NaN</td>\n",
              "      <td>NaN</td>\n",
              "    </tr>\n",
              "  </tbody>\n",
              "</table>\n",
              "</div>\n",
              "    <div class=\"colab-df-buttons\">\n",
              "\n",
              "  <div class=\"colab-df-container\">\n",
              "    <button class=\"colab-df-convert\" onclick=\"convertToInteractive('df-c10ff6c0-48cb-4401-85c5-27c01ab16300')\"\n",
              "            title=\"Convert this dataframe to an interactive table.\"\n",
              "            style=\"display:none;\">\n",
              "\n",
              "  <svg xmlns=\"http://www.w3.org/2000/svg\" height=\"24px\" viewBox=\"0 -960 960 960\">\n",
              "    <path d=\"M120-120v-720h720v720H120Zm60-500h600v-160H180v160Zm220 220h160v-160H400v160Zm0 220h160v-160H400v160ZM180-400h160v-160H180v160Zm440 0h160v-160H620v160ZM180-180h160v-160H180v160Zm440 0h160v-160H620v160Z\"/>\n",
              "  </svg>\n",
              "    </button>\n",
              "\n",
              "  <style>\n",
              "    .colab-df-container {\n",
              "      display:flex;\n",
              "      gap: 12px;\n",
              "    }\n",
              "\n",
              "    .colab-df-convert {\n",
              "      background-color: #E8F0FE;\n",
              "      border: none;\n",
              "      border-radius: 50%;\n",
              "      cursor: pointer;\n",
              "      display: none;\n",
              "      fill: #1967D2;\n",
              "      height: 32px;\n",
              "      padding: 0 0 0 0;\n",
              "      width: 32px;\n",
              "    }\n",
              "\n",
              "    .colab-df-convert:hover {\n",
              "      background-color: #E2EBFA;\n",
              "      box-shadow: 0px 1px 2px rgba(60, 64, 67, 0.3), 0px 1px 3px 1px rgba(60, 64, 67, 0.15);\n",
              "      fill: #174EA6;\n",
              "    }\n",
              "\n",
              "    .colab-df-buttons div {\n",
              "      margin-bottom: 4px;\n",
              "    }\n",
              "\n",
              "    [theme=dark] .colab-df-convert {\n",
              "      background-color: #3B4455;\n",
              "      fill: #D2E3FC;\n",
              "    }\n",
              "\n",
              "    [theme=dark] .colab-df-convert:hover {\n",
              "      background-color: #434B5C;\n",
              "      box-shadow: 0px 1px 3px 1px rgba(0, 0, 0, 0.15);\n",
              "      filter: drop-shadow(0px 1px 2px rgba(0, 0, 0, 0.3));\n",
              "      fill: #FFFFFF;\n",
              "    }\n",
              "  </style>\n",
              "\n",
              "    <script>\n",
              "      const buttonEl =\n",
              "        document.querySelector('#df-c10ff6c0-48cb-4401-85c5-27c01ab16300 button.colab-df-convert');\n",
              "      buttonEl.style.display =\n",
              "        google.colab.kernel.accessAllowed ? 'block' : 'none';\n",
              "\n",
              "      async function convertToInteractive(key) {\n",
              "        const element = document.querySelector('#df-c10ff6c0-48cb-4401-85c5-27c01ab16300');\n",
              "        const dataTable =\n",
              "          await google.colab.kernel.invokeFunction('convertToInteractive',\n",
              "                                                    [key], {});\n",
              "        if (!dataTable) return;\n",
              "\n",
              "        const docLinkHtml = 'Like what you see? Visit the ' +\n",
              "          '<a target=\"_blank\" href=https://colab.research.google.com/notebooks/data_table.ipynb>data table notebook</a>'\n",
              "          + ' to learn more about interactive tables.';\n",
              "        element.innerHTML = '';\n",
              "        dataTable['output_type'] = 'display_data';\n",
              "        await google.colab.output.renderOutput(dataTable, element);\n",
              "        const docLink = document.createElement('div');\n",
              "        docLink.innerHTML = docLinkHtml;\n",
              "        element.appendChild(docLink);\n",
              "      }\n",
              "    </script>\n",
              "  </div>\n",
              "\n",
              "\n",
              "<div id=\"df-fadc898a-6611-4f36-9419-198c06b5c269\">\n",
              "  <button class=\"colab-df-quickchart\" onclick=\"quickchart('df-fadc898a-6611-4f36-9419-198c06b5c269')\"\n",
              "            title=\"Suggest charts\"\n",
              "            style=\"display:none;\">\n",
              "\n",
              "<svg xmlns=\"http://www.w3.org/2000/svg\" height=\"24px\"viewBox=\"0 0 24 24\"\n",
              "     width=\"24px\">\n",
              "    <g>\n",
              "        <path d=\"M19 3H5c-1.1 0-2 .9-2 2v14c0 1.1.9 2 2 2h14c1.1 0 2-.9 2-2V5c0-1.1-.9-2-2-2zM9 17H7v-7h2v7zm4 0h-2V7h2v10zm4 0h-2v-4h2v4z\"/>\n",
              "    </g>\n",
              "</svg>\n",
              "  </button>\n",
              "\n",
              "<style>\n",
              "  .colab-df-quickchart {\n",
              "      --bg-color: #E8F0FE;\n",
              "      --fill-color: #1967D2;\n",
              "      --hover-bg-color: #E2EBFA;\n",
              "      --hover-fill-color: #174EA6;\n",
              "      --disabled-fill-color: #AAA;\n",
              "      --disabled-bg-color: #DDD;\n",
              "  }\n",
              "\n",
              "  [theme=dark] .colab-df-quickchart {\n",
              "      --bg-color: #3B4455;\n",
              "      --fill-color: #D2E3FC;\n",
              "      --hover-bg-color: #434B5C;\n",
              "      --hover-fill-color: #FFFFFF;\n",
              "      --disabled-bg-color: #3B4455;\n",
              "      --disabled-fill-color: #666;\n",
              "  }\n",
              "\n",
              "  .colab-df-quickchart {\n",
              "    background-color: var(--bg-color);\n",
              "    border: none;\n",
              "    border-radius: 50%;\n",
              "    cursor: pointer;\n",
              "    display: none;\n",
              "    fill: var(--fill-color);\n",
              "    height: 32px;\n",
              "    padding: 0;\n",
              "    width: 32px;\n",
              "  }\n",
              "\n",
              "  .colab-df-quickchart:hover {\n",
              "    background-color: var(--hover-bg-color);\n",
              "    box-shadow: 0 1px 2px rgba(60, 64, 67, 0.3), 0 1px 3px 1px rgba(60, 64, 67, 0.15);\n",
              "    fill: var(--button-hover-fill-color);\n",
              "  }\n",
              "\n",
              "  .colab-df-quickchart-complete:disabled,\n",
              "  .colab-df-quickchart-complete:disabled:hover {\n",
              "    background-color: var(--disabled-bg-color);\n",
              "    fill: var(--disabled-fill-color);\n",
              "    box-shadow: none;\n",
              "  }\n",
              "\n",
              "  .colab-df-spinner {\n",
              "    border: 2px solid var(--fill-color);\n",
              "    border-color: transparent;\n",
              "    border-bottom-color: var(--fill-color);\n",
              "    animation:\n",
              "      spin 1s steps(1) infinite;\n",
              "  }\n",
              "\n",
              "  @keyframes spin {\n",
              "    0% {\n",
              "      border-color: transparent;\n",
              "      border-bottom-color: var(--fill-color);\n",
              "      border-left-color: var(--fill-color);\n",
              "    }\n",
              "    20% {\n",
              "      border-color: transparent;\n",
              "      border-left-color: var(--fill-color);\n",
              "      border-top-color: var(--fill-color);\n",
              "    }\n",
              "    30% {\n",
              "      border-color: transparent;\n",
              "      border-left-color: var(--fill-color);\n",
              "      border-top-color: var(--fill-color);\n",
              "      border-right-color: var(--fill-color);\n",
              "    }\n",
              "    40% {\n",
              "      border-color: transparent;\n",
              "      border-right-color: var(--fill-color);\n",
              "      border-top-color: var(--fill-color);\n",
              "    }\n",
              "    60% {\n",
              "      border-color: transparent;\n",
              "      border-right-color: var(--fill-color);\n",
              "    }\n",
              "    80% {\n",
              "      border-color: transparent;\n",
              "      border-right-color: var(--fill-color);\n",
              "      border-bottom-color: var(--fill-color);\n",
              "    }\n",
              "    90% {\n",
              "      border-color: transparent;\n",
              "      border-bottom-color: var(--fill-color);\n",
              "    }\n",
              "  }\n",
              "</style>\n",
              "\n",
              "  <script>\n",
              "    async function quickchart(key) {\n",
              "      const quickchartButtonEl =\n",
              "        document.querySelector('#' + key + ' button');\n",
              "      quickchartButtonEl.disabled = true;  // To prevent multiple clicks.\n",
              "      quickchartButtonEl.classList.add('colab-df-spinner');\n",
              "      try {\n",
              "        const charts = await google.colab.kernel.invokeFunction(\n",
              "            'suggestCharts', [key], {});\n",
              "      } catch (error) {\n",
              "        console.error('Error during call to suggestCharts:', error);\n",
              "      }\n",
              "      quickchartButtonEl.classList.remove('colab-df-spinner');\n",
              "      quickchartButtonEl.classList.add('colab-df-quickchart-complete');\n",
              "    }\n",
              "    (() => {\n",
              "      let quickchartButtonEl =\n",
              "        document.querySelector('#df-fadc898a-6611-4f36-9419-198c06b5c269 button');\n",
              "      quickchartButtonEl.style.display =\n",
              "        google.colab.kernel.accessAllowed ? 'block' : 'none';\n",
              "    })();\n",
              "  </script>\n",
              "</div>\n",
              "    </div>\n",
              "  </div>\n"
            ]
          },
          "metadata": {},
          "execution_count": 7
        }
      ],
      "source": [
        "# Visualizando as Últimas Linhas do Dataset\n",
        "\n",
        "# Exibindo as três últimas linhas do dataset para entender o final do conjunto de dados\n",
        "# Esta visualização é útil para verificar se os dados finais estão alinhados com o resto do dataset\n",
        "# e para identificar quaisquer inconsistências ou padrões atípicos que possam aparecer no final do conjunto.\n",
        "dataset.tail(3)\n"
      ]
    },
    {
      "cell_type": "code",
      "execution_count": 8,
      "metadata": {
        "id": "Uyqdnvr_bPA3",
        "colab": {
          "base_uri": "https://localhost:8080/"
        },
        "outputId": "33c9a567-9c8e-4926-f969-fe83490d7655"
      },
      "outputs": [
        {
          "output_type": "stream",
          "name": "stdout",
          "text": [
            "Tipos de Dados por Atributo:\n",
            "\n",
            "Carimbo de data/hora                                                                                                                                                                    object\n",
            "UNIDADE NOTIFICADORA                                                                                                                                                                    object\n",
            "UNIDADE DE SAÚDE                                                                                                                                                                        object\n",
            "NÚMERO DO SINAN                                                                                                                                                                          int64\n",
            "NOME DO PACIENTE                                                                                                                                                                        object\n",
            "                                                                                                                                                                                        ...   \n",
            "PERÍODO DE VIREMIA - FINAL                                                                                                                                                              object\n",
            "6 - CHIKUNGUNYA POSITIVO  7 - CHIKUNGUNYA NEGATIVO  8 - CHIKUNGUNYA EM ANDAMENTO  13 - CHIKUNGUNYA INCONCLUSIVO  15 - CHIKUNGUNYA DESCARTADO                                           float64\n",
            "1 - POSITIVO (LABOR.)        2 - NEGATIVO     3 - MUDANÇA DE DIAGNÓSTICO      4 - POSITIVO (CLÍNICO EPID.)    5 -DESCARTADO CRIT.CE  14 - INDETERMINADO                                float64\n",
            "10 - ZIKA POSITIVO               11 - ZIKA NEGATIVO                12 - EM ANDAMENTO          16 - CLIN. EPID. POSITIVO         17 - CLIN. EPID. NEGATIVO           18 - DESCARTADO    float64\n",
            "ALTERAÇÕES FEITAS (CAMPOS)                                                                                                                                                              object\n",
            "Length: 40, dtype: object\n",
            "\n",
            "Entender os tipos de dados de cada atributo é crucial na análise de dados. Essa informação direciona a escolha das técnicas de processamento e visualização mais adequadas para cada coluna, e é fundamental na preparação dos dados para etapas subsequentes, como modelagem e análises específicas.\n"
          ]
        }
      ],
      "source": [
        "# Exibindo os Tipos de Dados de Cada Atributo no Dataset\n",
        "\n",
        "# Imprimindo os tipos de dados de cada coluna do dataset\n",
        "print(\"Tipos de Dados por Atributo:\\n\")\n",
        "print(dataset.dtypes)\n",
        "\n",
        "# Explicando a relevância de conhecer os tipos de dados\n",
        "print(\"\\nEntender os tipos de dados de cada atributo é crucial na análise de dados. \" +\n",
        "      \"Essa informação direciona a escolha das técnicas de processamento e visualização mais adequadas para cada coluna, \" +\n",
        "      \"e é fundamental na preparação dos dados para etapas subsequentes, como modelagem e análises específicas.\")\n"
      ]
    },
    {
      "cell_type": "markdown",
      "metadata": {
        "id": "sM66W5d-iD6i"
      },
      "source": []
    },
    {
      "cell_type": "markdown",
      "metadata": {
        "id": "QVL3Xte2mo3E"
      },
      "source": [
        "### Análise da Distribuição das Classes no Dataset de Dengue\n",
        "\n",
        "\n",
        "**Distribuição das Classes Antes da Padronização:**\n",
        "\n",
        "**Introdução:**\n",
        "Nesta etapa, focamos na análise da distribuição das classes na coluna 'AVALIAÇÃO DE ENCERRAMENTO (DENGUE)' do dataset.\n",
        "Esta coluna é fundamental, pois indica os resultados das avaliações de encerramento dos casos de dengue.\n",
        "Identificamos uma falta de padronização nas avaliações, o que pode representar um desafio para análise e interpretação\n",
        "dos dados.\n",
        "\n",
        "**Objetivo:**\n",
        "- Examinar a distribuição das classes na coluna-alvo.\n",
        "- Identificar quaisquer inconsistências ou padrões que possam impactar a análise.\n",
        "\n",
        "**Nota:** A compreensão clara da distribuição das classes é essencial antes de prosseguir para a padronização ou\n",
        "outras transformações. Isso nos ajudará a adotar as estratégias mais adequadas para lidar com quaisquer desafios\n",
        "nos dados.\n",
        "\"\"\"\n"
      ]
    },
    {
      "cell_type": "code",
      "source": [
        "# Análise dos Resultados Únicos na Coluna 'AVALIAÇÃO DE ENCERRAMENTO (DENGUE)'\n",
        "\n",
        "# Contando o número de categorias únicas na coluna-alvo\n",
        "resultados_unicos = dataset['AVALIAÇÃO DE ENCERRAMENTO (DENGUE)'].nunique()\n",
        "\n",
        "# Exibindo o número total de categorias únicas\n",
        "print(\"Número de resultados únicos:\", resultados_unicos)\n",
        "\n",
        "# Listando alguns dos resultados únicos para uma visão preliminar\n",
        "# Limitando a exibição para os primeiros 15 para manter a saída concisa\n",
        "resultados_unicos_lista = dataset['AVALIAÇÃO DE ENCERRAMENTO (DENGUE)'].unique()[:15]\n",
        "print(\"Alguns dos resultados únicos:\", resultados_unicos_lista)\n",
        "\n",
        "# Nota: Esta análise é importante para entender a diversidade das avaliações de encerramento.\n",
        "# Ela nos ajuda a identificar a necessidade de padronização antes de realizar análises mais detalhadas."
      ],
      "metadata": {
        "colab": {
          "base_uri": "https://localhost:8080/"
        },
        "id": "WEKqw8C17TqS",
        "outputId": "f1203587-5d39-47c6-e91d-9bc29e824426"
      },
      "execution_count": 9,
      "outputs": [
        {
          "output_type": "stream",
          "name": "stdout",
          "text": [
            "Número de resultados únicos: 1043\n",
            "Alguns dos resultados únicos: ['343 Dias (Negativo)' '96 dias' '339 Dias (Descartado Crit. CE)'\n",
            " '344 Dias (Descartado Crit. CE)' '346 Dias (Descartado Crit. CE)'\n",
            " '341 Dias (Posit. Crit. Clin. Epid.)' '342 Dias (Descartado Crit. CE)'\n",
            " '341 Dias (Descartado Crit. CE)' '345 Dias (Descartado Crit. CE)'\n",
            " '344 Dias (Negativo)' 'HABILITADA' '340 Dias (Descartado Crit. CE)'\n",
            " '349 Dias (Negativo)' '340 Dias (Negativo)' '339 Dias (Negativo)']\n"
          ]
        }
      ]
    },
    {
      "cell_type": "markdown",
      "source": [
        "Após uma análise inicial da coluna 'AVALIAÇÃO DE ENCERRAMENTO (DENGUE)', observamos a presença de mais de mil resultados únicos, uma variação muito além das 7 categorias estabelecidas pela Vigilância Epidemiológica. Esta descoberta ressalta a importância crítica da padronização dos dados. Sem a padronização, os esforços de análise enfrentam o risco de serem obstruídos por dados inconsistentes e potencialmente enganosos. Ao padronizar os dados para as 7 categorias definidas, garantimos uma análise mais precisa e facilitamos o processo de tomada de decisão baseada em evidências no contexto do monitoramento de casos de dengue."
      ],
      "metadata": {
        "id": "PH6vFie6_nXH"
      }
    },
    {
      "cell_type": "markdown",
      "source": [
        "###Importância da Padronização dos Dados em Projetos de Análise de Saúde Pública\n",
        "\n",
        "\"\"\"\n",
        "**Necessidade de Padronização de Dados:**\n",
        "\n",
        "Em projetos de análise de dados, especialmente em contextos de saúde pública como o monitoramento de casos de dengue,\n",
        "a padronização dos dados é crucial por várias razões:\n",
        "\n",
        "**1. Consistência e Precisão:**\n",
        "   - Dados não padronizados podem levar a interpretações errôneas ou análises imprecisas.\n",
        "   - Por exemplo, uma grande variedade de resultados na coluna 'AVALIAÇÃO DE ENCERRAMENTO (DENGUE)' pode indicar\n",
        "     inconsistências significativas. A padronização assegura que os dados sejam agrupados de maneira coerente,\n",
        "     facilitando a identificação de tendências e padrões.\n",
        "\n",
        "**2. Facilitação da Análise e Visualização de Dados:**\n",
        "   - Dados padronizados são mais simples de analisar e visualizar.\n",
        "   - Reduzir a diversidade de categorias para padrões definidos permite a criação de visualizações mais claras\n",
        "     e informativas, refletindo com precisão a situação dos casos de dengue.\n",
        "\n",
        "**3. Melhoria na Qualidade dos Dados:**\n",
        "   - A padronização ajuda a eliminar erros e discrepâncias, como digitações incorretas ou variações na grafia,\n",
        "     melhorando a qualidade geral dos dados.\n",
        "\n",
        "**4. Suporte à Tomada de Decisão:**\n",
        "   - Dados padronizados fornecem uma base mais sólida para a tomada de decisões.\n",
        "   - Em saúde pública, isso é crítico para decisões eficazes sobre intervenções, alocação de recursos e estratégias de prevenção.\n",
        "\n",
        "**Conclusão:**\n",
        "A padronização dos dados é, portanto, um passo vital no processo de análise de dados, especialmente em projetos\n",
        "relacionados à saúde pública, como o monitoramento da dengue.\n",
        "\"\"\"\n"
      ],
      "metadata": {
        "id": "6lIG7rT0AErr"
      }
    },
    {
      "cell_type": "markdown",
      "source": [],
      "metadata": {
        "id": "WkngBmj88FVA"
      }
    },
    {
      "cell_type": "markdown",
      "source": [
        "###Redução de Dimensionalidade do Dataset de Notificações de Dengue\n",
        "\n",
        "\n",
        "**Seleção e Remoção de Colunas:**\n",
        "\n",
        "**Contexto:**\n",
        "No nosso projeto de análise de dados sobre casos de dengue, optamos por simplificar o conjunto de dados original,\n",
        "que contém 40 colunas, removendo variáveis que não são essenciais para nossa análise. Este processo de redução de\n",
        "dimensionalidade é crucial para focar nas informações mais relevantes.\n",
        "\n",
        "**Justificativa:**\n",
        "- Concentrar a análise nas variáveis mais informativas melhora a clareza e eficiência do processo de análise.\n",
        "- A remoção de colunas desnecessárias nos permite dedicar mais atenção e recursos às variáveis que provavelmente fornecerão insights significativos sobre os padrões e a distribuição dos casos de dengue.\n",
        "- Esta abordagem assegura que nossas conclusões sejam baseadas em informações pertinentes e confiáveis, evitando a distração de dados irrelevantes ou pouco informativos.\n",
        "\n",
        "###Resultado Esperado:\n",
        "- Um dataset simplificado e mais focado, contendo apenas as colunas cruciais para nossa análise.\n",
        "- Melhoria na qualidade e precisão da análise de dados e das visualizações resultantes.\n",
        "\"\"\"\n"
      ],
      "metadata": {
        "id": "r3BuapCRAmQd"
      }
    },
    {
      "cell_type": "code",
      "execution_count": 10,
      "metadata": {
        "id": "7kJlsksEf5qT",
        "colab": {
          "base_uri": "https://localhost:8080/"
        },
        "outputId": "5cb7e194-86b1-4026-ed85-ea0226425fa7"
      },
      "outputs": [
        {
          "output_type": "stream",
          "name": "stdout",
          "text": [
            "  Carimbo de data/hora UNIDADE NOTIFICADORA  UNIDADE DE SAÚDE  NÚMERO DO SINAN               NOME DO PACIENTE D/N PACIENTE IDADE         ENDEREÇO NÚMERO                            BAIRRO      TELEFONE DATA DA NOTIFICAÇÃO DATA DO 1º SINTOMAS    OCUPAÇÃO LOCAL E ENDEREÇO OCUPAÇÃO? AVALIAÇÃO DE ENCERRAMENTO (DENGUE) DATA DO ENCERRAMENTO DA NOTIFICAÇÃO\n",
            "0  01/01/2023 20:55:43           PA POZZOBON         POZZOBON           733556      Marilice da Silva Manhami   26/01/1977    45   RENATO FONSECA    2576  Parque Residencial Santa Amélia   17997232001          01/01/2023          28/12/2022  Professora                 Não consta                343 Dias (Negativo)                          13/01/2023\n",
            "1  01/01/2023 21:01:44           PA POZZOBON         POZZOBON           733557        Wellington José Pereira   09/04/2003    19   RENATO FONSECA    3151  Parque Residencial Santa Amélia   17992119042          01/01/2023          01/01/2023   Repositor                 Não consta                            96 dias                          19/01/2023\n",
            "2  01/01/2023 23:54:49           PA POZZOBON         PRÓ POVO           733558  CAROLINE CONCEIÇAO FERNANDES    08/12/1999    23     RIO COLORADO    2360                        POZZOBON   17-992822519          01/01/2023          28/12/2022     DO LAR                     DO LAR                 343 Dias (Negativo)                          09/01/2023\n",
            "3  02/01/2023 04:24:43         CASA DE SAUDE     JARDIM MARIN           733559          JOSE MARCIO RODRIGUES   14/05/1971    51     DANIEL MARIN    5998                   PORTAL DO SOL   17-992479641          01/01/2023          01/01/2023           .                          .     339 Dias (Descartado Crit. CE)                          19/01/2023\n",
            "4  02/01/2023 09:36:05         CASA DE SAUDE              NaN           723033   Antonio Kazumi Oliveira Ito    02/03/2022    09  ARISTIDES GALLO    5179                          Cecap 2   17991166232          31/12/2022          27/12/2022      Menor                 Residência      344 Dias (Descartado Crit. CE)                          11/01/2023\n"
          ]
        }
      ],
      "source": [
        "# Seleção e Manutenção de Colunas Específicas no Dataset\n",
        "\n",
        "# Definindo as colunas que serão mantidas no dataset\n",
        "# Esta lista foi criada com base na relevância das colunas para a análise dos padrões de notificação de dengue\n",
        "colunas_a_manter = [\n",
        "    'Carimbo de data/hora', 'UNIDADE NOTIFICADORA ', 'UNIDADE DE SAÚDE',\n",
        "    'NÚMERO DO SINAN', 'NOME DO PACIENTE', 'D/N PACIENTE', 'IDADE',\n",
        "    'ENDEREÇO', 'NÚMERO ', 'BAIRRO', 'TELEFONE', 'DATA DA NOTIFICAÇÃO',\n",
        "    'DATA DO 1º SINTOMAS', 'OCUPAÇÃO', 'LOCAL E ENDEREÇO OCUPAÇÃO?',\n",
        "    'AVALIAÇÃO DE ENCERRAMENTO (DENGUE)', 'DATA DO ENCERRAMENTO DA NOTIFICAÇÃO'\n",
        "]\n",
        "\n",
        "# Removendo colunas que não estão na lista 'colunas_a_manter' do DataFrame\n",
        "# Este passo simplifica o dataset, focando nas informações mais relevantes para a análise\n",
        "dataset = dataset[colunas_a_manter]\n",
        "\n",
        "# Exibindo as primeiras linhas do DataFrame após a remoção de colunas\n",
        "# Isso nos ajuda a verificar a estrutura do dataset após a redução de dimensionalidade\n",
        "print(dataset.head())"
      ]
    },
    {
      "cell_type": "code",
      "execution_count": 11,
      "metadata": {
        "id": "MO4L8SPmgqC0",
        "colab": {
          "base_uri": "https://localhost:8080/"
        },
        "outputId": "a364d1b5-969c-40c7-b8a4-d34735d3df5f"
      },
      "outputs": [
        {
          "output_type": "stream",
          "name": "stdout",
          "text": [
            "Index(['Carimbo de data/hora', 'UNIDADE NOTIFICADORA ', 'UNIDADE DE SAÚDE', 'NÚMERO DO SINAN', 'NOME DO PACIENTE', 'D/N PACIENTE', 'IDADE', 'ENDEREÇO', 'NÚMERO ', 'BAIRRO', 'TELEFONE', 'DATA DA NOTIFICAÇÃO', 'DATA DO 1º SINTOMAS', 'OCUPAÇÃO', 'LOCAL E ENDEREÇO OCUPAÇÃO?', 'AVALIAÇÃO DE ENCERRAMENTO (DENGUE)', 'DATA DO ENCERRAMENTO DA NOTIFICAÇÃO'], dtype='object')\n"
          ]
        }
      ],
      "source": [
        "# Imprimir os nomes das colunas do DataFrame\n",
        "print(dataset.columns)\n"
      ]
    },
    {
      "cell_type": "code",
      "execution_count": 12,
      "metadata": {
        "id": "jEI3qjjXcw7G",
        "colab": {
          "base_uri": "https://localhost:8080/"
        },
        "outputId": "b839c872-c003-46c4-ea5b-3d70bb4f4481"
      },
      "outputs": [
        {
          "output_type": "stream",
          "name": "stdout",
          "text": [
            "Distribuição das Classes no Dataset:\n",
            "\n",
            "AVALIAÇÃO DE ENCERRAMENTO (DENGUE)\n",
            "1 Dias                                6\n",
            "10 Dias                              18\n",
            "10 Dias (Mudança de Diagnóstico)      1\n",
            "10 Dias (Negativo)                    1\n",
            "10 Dias Negativo                      1\n",
            "                                   ... \n",
            "DUPLICIDADE                           3\n",
            "HABILITADA                          332\n",
            "HABILITADA                            4\n",
            "HABILITADA/NEGATIVO                  15\n",
            "HABILITADA/POSITIVO                   5\n",
            "Length: 1043, dtype: int64\n",
            "\n",
            "Entender a distribuição das classes é vital para qualquer análise que envolva categorização ou classificação. Uma distribuição desequilibrada das classes pode ter um impacto significativo nos resultados e nas decisões relacionadas à modelagem. Esta análise nos ajuda a identificar tais desequilíbrios e planejar abordagens apropriadas para lidar com eles.\n"
          ]
        }
      ],
      "source": [
        "# Checando a Distribuição das Classes na Coluna 'AVALIAÇÃO DE ENCERRAMENTO (DENGUE)'\n",
        "\n",
        "# Exibindo a distribuição das categorias na coluna-alvo\n",
        "print(\"Distribuição das Classes no Dataset:\\n\")\n",
        "class_distribution = dataset.groupby('AVALIAÇÃO DE ENCERRAMENTO (DENGUE)').size()\n",
        "print(class_distribution)\n",
        "\n",
        "# Explicando a relevância da distribuição das classes\n",
        "print(\"\\nEntender a distribuição das classes é vital para qualquer análise que envolva categorização ou classificação. \" +\n",
        "      \"Uma distribuição desequilibrada das classes pode ter um impacto significativo nos resultados e nas decisões \" +\n",
        "      \"relacionadas à modelagem. Esta análise nos ajuda a identificar tais desequilíbrios e planejar abordagens \" +\n",
        "      \"apropriadas para lidar com eles.\")\n"
      ]
    },
    {
      "cell_type": "markdown",
      "metadata": {
        "id": "XPZGsCzjntP9"
      },
      "source": [
        "###Introdução à Padronização da Coluna de Avaliação de Encerramento\n",
        "\n",
        "**Contexto e Objetivo da Padronização:**\n",
        "\n",
        "Ao lidar com dados de saúde pública, como registros de notificações de dengue, enfrentamos desafios relacionados à consistência e padronização. Em nosso dataset, a coluna 'AVALIAÇÃO DE ENCERRAMENTO (DENGUE)' apresenta variações\n",
        "e inconsistências nos termos usados para descrever os resultados das avaliações de encerramento. Para superar este desafio e conduzir análises mais precisas, é essencial implementar um processo de padronização desses dados.\n",
        "\n",
        "**Descrição do Processo de Padronização:**\n",
        "\n",
        "**- Definição da Função padroniza_avaliacao:**\n",
        "  - Esta função analisa cada registro na coluna 'AVALIAÇÃO DE ENCERRAMENTO (DENGUE)'.\n",
        "  - Cada registro é convertido para letras minúsculas, permitindo comparações consistentes de strings.\n",
        "\n",
        "**- Lógica de Padronização:**\n",
        "  - A função utiliza estruturas condicionais para identificar palavras-chave (como \"negativo\", \"positivo\", \"descartado\").\n",
        "  - Dependendo dessas palavras-chave, a função atribui uma nova categoria padronizada, como \"Negativo\", \"Positivo\", \"Descartado Clínico Epidemiológico\", entre outras.\n",
        "\n",
        "**- Aplicação da Função ao Dataset:**\n",
        "  - Aplicamos a função padroniza_avaliacao em cada linha do DataFrame usando o método apply.\n",
        "  - Criamos uma nova coluna 'Padronizado' no DataFrame que contém os resultados das avaliações de encerramento após a padronização.\n",
        "\n",
        "**Nota:** A padronização de dados é um passo vital para assegurar a precisão e a relevância das análises em projetos\n",
        "de saúde pública. Ela facilita o processamento dos dados e a geração de insights significativos.\n",
        "\n"
      ]
    },
    {
      "cell_type": "code",
      "execution_count": 13,
      "metadata": {
        "id": "jPekLkIQgK0N",
        "colab": {
          "base_uri": "https://localhost:8080/"
        },
        "outputId": "2d3bf1d5-7eda-475a-8c44-74abec14b6d4"
      },
      "outputs": [
        {
          "output_type": "stream",
          "name": "stdout",
          "text": [
            "  Carimbo de data/hora UNIDADE NOTIFICADORA  UNIDADE DE SAÚDE  NÚMERO DO SINAN               NOME DO PACIENTE D/N PACIENTE IDADE         ENDEREÇO NÚMERO                            BAIRRO      TELEFONE DATA DA NOTIFICAÇÃO DATA DO 1º SINTOMAS    OCUPAÇÃO LOCAL E ENDEREÇO OCUPAÇÃO? AVALIAÇÃO DE ENCERRAMENTO (DENGUE) DATA DO ENCERRAMENTO DA NOTIFICAÇÃO                        Padronizado\n",
            "0  01/01/2023 20:55:43           PA POZZOBON         POZZOBON           733556      Marilice da Silva Manhami   26/01/1977    45   RENATO FONSECA    2576  Parque Residencial Santa Amélia   17997232001          01/01/2023          28/12/2022  Professora                 Não consta                343 Dias (Negativo)                          13/01/2023                           Negativo\n",
            "1  01/01/2023 21:01:44           PA POZZOBON         POZZOBON           733557        Wellington José Pereira   09/04/2003    19   RENATO FONSECA    3151  Parque Residencial Santa Amélia   17992119042          01/01/2023          01/01/2023   Repositor                 Não consta                            96 dias                          19/01/2023                    Em Investigação\n",
            "2  01/01/2023 23:54:49           PA POZZOBON         PRÓ POVO           733558  CAROLINE CONCEIÇAO FERNANDES    08/12/1999    23     RIO COLORADO    2360                        POZZOBON   17-992822519          01/01/2023          28/12/2022     DO LAR                     DO LAR                 343 Dias (Negativo)                          09/01/2023                           Negativo\n",
            "3  02/01/2023 04:24:43         CASA DE SAUDE     JARDIM MARIN           733559          JOSE MARCIO RODRIGUES   14/05/1971    51     DANIEL MARIN    5998                   PORTAL DO SOL   17-992479641          01/01/2023          01/01/2023           .                          .     339 Dias (Descartado Crit. CE)                          19/01/2023  Descartado Clínico Epidemiológico\n",
            "4  02/01/2023 09:36:05         CASA DE SAUDE              NaN           723033   Antonio Kazumi Oliveira Ito    02/03/2022    09  ARISTIDES GALLO    5179                          Cecap 2   17991166232          31/12/2022          27/12/2022      Menor                 Residência      344 Dias (Descartado Crit. CE)                          11/01/2023  Descartado Clínico Epidemiológico\n"
          ]
        }
      ],
      "source": [
        "def padroniza_avaliacao(row):\n",
        "    # Acessando o valor da coluna 'AVALIAÇÃO DE ENCERRAMENTO (DENGUE)' para cada linha\n",
        "    avaliacao = row['AVALIAÇÃO DE ENCERRAMENTO (DENGUE)']\n",
        "\n",
        "    # Verifica se o valor é uma string\n",
        "    if isinstance(avaliacao, str):\n",
        "        avaliacao = avaliacao.lower()  # Convertendo para minúsculas para padronização\n",
        "        # Aplicando a lógica de padronização baseada na presença de palavras-chave\n",
        "        if 'negativo' in avaliacao:\n",
        "            return \"Negativo\"\n",
        "        elif 'positivo' in avaliacao:\n",
        "            return \"Positivo\"\n",
        "        elif 'descartado' in avaliacao:\n",
        "            return \"Descartado Clínico Epidemiológico\"\n",
        "        elif 'posit. crit. clin. epid.' in avaliacao:\n",
        "            return \"Confirmado Clínico Epidemiológico\"\n",
        "        elif 'habilitada' in avaliacao:\n",
        "            return \"Habilitada\"\n",
        "        elif 'duplicidade' in avaliacao:\n",
        "            return \"Duplicidade\"\n",
        "        else:\n",
        "            return \"Em Investigação\"  # Categoria padrão para casos não cobertos acima\n",
        "    else:\n",
        "        return \"Valor não é uma string\"  # Retorna se o valor não for uma string\n",
        "\n",
        "# Aplicando a função para criar a nova coluna 'Padronizado' no DataFrame\n",
        "dataset['Padronizado'] = dataset.apply(padroniza_avaliacao, axis=1)\n",
        "\n",
        "# Verificando as primeiras linhas do DataFrame após a padronização\n",
        "print(dataset.head())"
      ]
    },
    {
      "cell_type": "markdown",
      "metadata": {
        "id": "Uq7w91oLnvxF"
      },
      "source": [
        "###Impacto da Padronização no Projeto de Análise de Dados\n",
        "\n",
        "\"\"\"\n",
        "**Impacto e Benefícios da Padronização de Dados:**\n",
        "\n",
        "1. **Base de Dados Uniforme e Interpretável:**\n",
        "   - A padronização proporciona um conjunto de dados com categorias claras e consistentes, facilitando a interpretação.\n",
        "   - Isso permite uma análise mais precisa e confiável, essencial para extrair insights significativos dos dados.\n",
        "\n",
        "2. **Análises Precisas e Identificação de Tendências:**\n",
        "   - Com dados padronizados, podemos realizar análises mais profundas, identificar tendências e padrões nos dados.\n",
        "   - Isso é particularmente importante em projetos de saúde pública, onde padrões nos dados podem indicar\n",
        "     tendências cruciais em questões de saúde.\n",
        "\n",
        "3. **Tomada de Decisão Baseada em Dados Confiáveis:**\n",
        "   - A padronização assegura que as decisões sejam tomadas com base em informações precisas e confiáveis.\n",
        "   - Em contextos de saúde pública, isso é vital para o planejamento e implementação de estratégias eficazes de prevenção e controle.\n",
        "\n",
        "###**Conclusão:**\n",
        "A padronização dos dados é, portanto, um componente crítico em nosso projeto de análise de dados, garantindo que\n",
        "todas as conclusões e decisões sejam baseadas em um conjunto de dados confiável e precisamente categorizado.\n",
        "\"\"\"\n"
      ]
    },
    {
      "cell_type": "code",
      "execution_count": 14,
      "metadata": {
        "id": "DSd-uvRiomi9",
        "colab": {
          "base_uri": "https://localhost:8080/"
        },
        "outputId": "95c19682-0887-488c-c06e-e30b605d1118"
      },
      "outputs": [
        {
          "output_type": "stream",
          "name": "stdout",
          "text": [
            "     AVALIAÇÃO DE ENCERRAMENTO (DENGUE)                        Padronizado\n",
            "0                   343 Dias (Negativo)                           Negativo\n",
            "1                               96 dias                    Em Investigação\n",
            "2                   343 Dias (Negativo)                           Negativo\n",
            "3        339 Dias (Descartado Crit. CE)  Descartado Clínico Epidemiológico\n",
            "4        344 Dias (Descartado Crit. CE)  Descartado Clínico Epidemiológico\n",
            "..                                  ...                                ...\n",
            "6   341 Dias (Posit. Crit. Clin. Epid.)  Confirmado Clínico Epidemiológico\n",
            "7        342 Dias (Descartado Crit. CE)  Descartado Clínico Epidemiológico\n",
            "8        341 Dias (Descartado Crit. CE)  Descartado Clínico Epidemiológico\n",
            "9        345 Dias (Descartado Crit. CE)  Descartado Clínico Epidemiológico\n",
            "10                  344 Dias (Negativo)                           Negativo\n",
            "\n",
            "[11 rows x 2 columns]\n"
          ]
        }
      ],
      "source": [
        "# Seleciona as colunas 'AVALIAÇÃO DE ENCERRAMENTO (DENGUE)' e 'Padronizado' e exibe as primeiras 10 linhas\n",
        "visualizacao_colunas = dataset[['AVALIAÇÃO DE ENCERRAMENTO (DENGUE)', 'Padronizado']].head(11)\n",
        "print(visualizacao_colunas)"
      ]
    },
    {
      "cell_type": "markdown",
      "metadata": {
        "id": "K_9K_Gupm3PI"
      },
      "source": [
        "###Distribuição das Classes Após a Padronização\n",
        "\n",
        "**Introdução à Análise Pós-Padronização:**\n",
        "\n",
        "Após uma colaboração estreita com a equipe da vigilância epidemiológica, introduzimos uma nova coluna 'Padronizado' no nosso dataset. Esta coluna reflete uma categorização mais clara e consistente dos resultados das avaliações de encerramento dos casos de dengue. A padronização dos dados é um passo vital para uma visão mais precisa e\n",
        "útil da distribuição dos casos.\n",
        "\n",
        "**Objetivo da Análise:**\n",
        "- Explorar a distribuição dos casos de dengue na coluna 'Padronizado'.\n",
        "- Avaliar como a padronização impacta nossa compreensão da distribuição dos casos e identificar padrões ou tendências significativas.\n",
        "\n",
        "Nota: A análise da distribuição das classes após a padronização nos permite extrair insights mais precisos e confiáveis, essenciais para a tomada de decisões informadas em contextos de saúde pública.\n",
        "\n"
      ]
    },
    {
      "cell_type": "code",
      "execution_count": 15,
      "metadata": {
        "id": "zaFhwZExgTpt",
        "colab": {
          "base_uri": "https://localhost:8080/"
        },
        "outputId": "fcd23dd6-f0eb-42c1-c1fd-e9a9199da699"
      },
      "outputs": [
        {
          "output_type": "stream",
          "name": "stdout",
          "text": [
            "Distribuição das Classes no Dataset:\n",
            "\n",
            "Padronizado\n",
            "Confirmado Clínico Epidemiológico     772\n",
            "Descartado Clínico Epidemiológico    1426\n",
            "Duplicidade                            33\n",
            "Em Investigação                       206\n",
            "Habilitada                            336\n",
            "Negativo                             1553\n",
            "Positivo                              144\n",
            "Valor não é uma string                  1\n",
            "dtype: int64\n"
          ]
        }
      ],
      "source": [
        "# Exibindo a distribuição das classes\n",
        "print(\"Distribuição das Classes no Dataset:\\n\")\n",
        "class_distribution = dataset.groupby('Padronizado').size()\n",
        "print(class_distribution)\n"
      ]
    },
    {
      "cell_type": "code",
      "source": [
        "# Avaliação de Dados Faltantes na Coluna 'Padronizado'\n",
        "\n",
        "\"\"\"\n",
        "Introdução à Verificação de Nulidade:\n",
        "\n",
        "Nesta parte da análise, focamos em avaliar a presença de dados faltantes na nova coluna 'Padronizado'.\n",
        "A verificação de dados faltantes é crucial para garantir a integridade e a confiabilidade da nossa análise.\n",
        "Utilizamos a visualização matricial da biblioteca 'missingno' para uma representação gráfica clara da\n",
        "nulidade dos dados.\n",
        "\n",
        "Objetivos:\n",
        "- Visualizar graficamente a presença de dados faltantes na coluna 'Padronizado'.\n",
        "- Listar todas as categorias únicas presentes na coluna após a padronização.\n",
        "\n",
        "Código e Análise:\n",
        "\"\"\"\n",
        "# Visualização matricial da presença de dados faltantes na coluna 'Padronizado'\n",
        "msno.matrix(dataset[['Padronizado']], figsize=(4, 8), color=(0.25, 0.5, 0.75))\n",
        "plt.show()  # Exibe a visualização matricial\n",
        "\n",
        "# Listando todas as categorias únicas na coluna 'Padronizado'\n",
        "categorias_unicas = dataset['Padronizado'].unique()\n",
        "print(\"Categorias únicas na coluna 'Padronizado':\", categorias_unicas)\n",
        "\n",
        "# Nota: Esta análise nos ajuda a entender a completude dos dados após a padronização e a identificar\n",
        "# quaisquer categorias adicionais que possam ter surgido no processo.\n",
        "\n"
      ],
      "metadata": {
        "colab": {
          "base_uri": "https://localhost:8080/",
          "height": 841
        },
        "id": "IPU8zmOmLCfs",
        "outputId": "562fb53c-d93e-4d73-fa29-c2c9831a310a"
      },
      "execution_count": 16,
      "outputs": [
        {
          "output_type": "display_data",
          "data": {
            "text/plain": [
              "<Figure size 400x800 with 2 Axes>"
            ],
            "image/png": "[encoded data removed]"
          },
          "metadata": {}
        },
        {
          "output_type": "stream",
          "name": "stdout",
          "text": [
            "Categorias únicas na coluna 'Padronizado': ['Negativo' 'Em Investigação' 'Descartado Clínico Epidemiológico'\n",
            " 'Confirmado Clínico Epidemiológico' 'Habilitada' 'Positivo' 'Duplicidade'\n",
            " 'Valor não é uma string']\n"
          ]
        }
      ]
    },
    {
      "cell_type": "code",
      "source": [
        "# Definindo um mapa de cores para as categorias\n",
        "cores = {\n",
        "    'Negativo': 'blue',\n",
        "    'Descartado Clínico Epidemiológico': 'blue',\n",
        "    'Confirmado Clínico Epidemiológico': 'red',\n",
        "    'Positivo': 'red',\n",
        "    'Em Investigação': 'orange',\n",
        "    'Habilitada': 'green',\n",
        "    'Duplicidade': 'green',\n",
        "    'Valor não é uma string': 'black'\n",
        "}\n",
        "\n",
        "# Plotando o gráfico de barras com a paleta de cores correta\n",
        "plt.figure(figsize=(10, 6))\n",
        "sns.countplot(data=dataset, y='Padronizado', palette=cores)\n",
        "plt.title('Distribuição das Categorias na Coluna Padronizado')\n",
        "plt.xlabel('Contagem')\n",
        "plt.ylabel('Categorias')\n",
        "plt.show()\n"
      ],
      "metadata": {
        "colab": {
          "base_uri": "https://localhost:8080/",
          "height": 564
        },
        "id": "Dq185MBJD7vP",
        "outputId": "d25e9f8d-888d-4249-961a-d7257def3b44"
      },
      "execution_count": 17,
      "outputs": [
        {
          "output_type": "display_data",
          "data": {
            "text/plain": [
              "<Figure size 1000x600 with 1 Axes>"
            ],
            "image/png": "[encoded data removed]"
          },
          "metadata": {}
        }
      ]
    },
    {
      "cell_type": "markdown",
      "metadata": {
        "id": "wZNUWKej3s0X"
      },
      "source": [
        "###Padronização da Coluna \"IDADE\"\n",
        "\n",
        "\n",
        "**Introdução à Padronização da Idade:**\n",
        "\n",
        "Em nosso projeto, enfrentamos o desafio de lidar com dados de idade apresentados em diferentes formatos, incluindo idades expressas em meses. A padronização desses dados é crucial para garantir a precisão e a consistência das análises relacionadas à idade.\n",
        "\n",
        "**Processo de Padronização:**\n",
        "\n",
        "- A função converter_idade é definida para tratar cada valor na coluna 'IDADE'.\n",
        "- Idades expressas em meses são tratadas especialmente, atribuindo-se o valor 0, pois representam uma idade inferior a um ano.\n",
        "- Para idades expressas em anos, a função extrai e converte os números para um formato inteiro consistente.\n",
        "- Em casos onde a conversão é inviável ou os dados são inválidos, atribuímos um valor NaN para indicar a ausência de dados confiáveis.\n",
        "\n",
        "**Aplicação e Verificação:**\n",
        "\n",
        "- A função é aplicada à coluna 'IDADE' do dataset para realizar a padronização.\n",
        "- Verificamos os resultados exibindo as primeiras linhas após a padronização, garantindo que a coluna 'IDADE' esteja agora em um formato uniforme e analisável."
      ]
    },
    {
      "cell_type": "code",
      "execution_count": 18,
      "metadata": {
        "id": "12vQHPWE65eJ",
        "colab": {
          "base_uri": "https://localhost:8080/"
        },
        "outputId": "4b82a9a8-f663-4bea-cd67-00fb0d901555"
      },
      "outputs": [
        {
          "output_type": "stream",
          "name": "stdout",
          "text": [
            "                  NOME DO PACIENTE D/N PACIENTE  IDADE\n",
            "0        Marilice da Silva Manhami   26/01/1977   45.0\n",
            "1          Wellington José Pereira   09/04/2003   19.0\n",
            "2    CAROLINE CONCEIÇAO FERNANDES    08/12/1999   23.0\n",
            "3            JOSE MARCIO RODRIGUES   14/05/1971   51.0\n",
            "4     Antonio Kazumi Oliveira Ito    02/03/2022    9.0\n",
            "5  Denise Cristine Chiavelli Neiva   19/11/1986   36.0\n",
            "6   Wellington Aparecido de Jesus    18/11/1985   37.0\n",
            "7            Eriton Russo de Souza   23/12/1984   38.0\n",
            "8       Patricia Rezende Fontoura    04/07/1984   38.0\n",
            "9      ANI CARINA SANTOS FERNANDES   20/05/1981   41.0\n"
          ]
        }
      ],
      "source": [
        "def converter_idade(idade):\n",
        "    if isinstance(idade, str):\n",
        "        idade = idade.replace(\" \", \"\").lower()\n",
        "        if 'm' in idade:\n",
        "            return 0\n",
        "        else:\n",
        "            try:\n",
        "                return int(''.join(filter(str.isdigit, idade)))\n",
        "            except ValueError:\n",
        "                return float('nan')\n",
        "    return idade\n",
        "\n",
        "# Aplicando a função de padronização na coluna \"IDADE\"\n",
        "dataset['IDADE'] = dataset['IDADE'].apply(converter_idade)\n",
        "\n",
        "# Exibindo os resultados após a padronização\n",
        "print(dataset[['NOME DO PACIENTE', 'D/N PACIENTE', 'IDADE']].head(10))\n"
      ]
    },
    {
      "cell_type": "markdown",
      "metadata": {
        "id": "QwWtuAABfJL6"
      },
      "source": [
        "###Padronização da Coluna \"TELEFONE\"\n",
        "\n",
        "**Introdução à Padronização de Telefones:**\n",
        "\n",
        "No nosso dataset, a coluna \"TELEFONE\" contém números de telefone que podem incluir uma variedade de formatos e\n",
        "caracteres, como parênteses, espaços e traços. Para facilitar análises futuras e manter a consistência,\n",
        "optamos por padronizar esta coluna para conter apenas dígitos numéricos.\n",
        "\n",
        "####**Processo de Padronização:**\n",
        "\n",
        "**1. Conversão de Valores para String:**\n",
        "   - Primeiro, convertemos todos os valores da coluna \"TELEFONE\" para o tipo string, garantindo que a manipulação de texto possa ser realizada de forma consistente.\n",
        "   - Valores nulos são tratados de forma segura para evitar a conversão de NaN para string.\n",
        "\n",
        "**2. Remoção de Caracteres Não Numéricos:**\n",
        "   - Em seguida, utilizamos expressões regulares para remover todos os caracteres não numéricos dos números de telefone, padronizando o formato.\n",
        "\n",
        "**Verificação Após Padronização:**\n",
        "- Após a aplicação dessas transformações, verificamos os resultados exibindo as primeiras linhas da coluna \"TELEFONE\" para assegurar que a padronização foi bem-sucedida.\n",
        "\n",
        "\n"
      ]
    },
    {
      "cell_type": "code",
      "execution_count": 19,
      "metadata": {
        "id": "THjr6AzwUB_7",
        "colab": {
          "base_uri": "https://localhost:8080/"
        },
        "outputId": "df59608b-8f49-4800-baa2-0441667ae0d8"
      },
      "outputs": [
        {
          "output_type": "stream",
          "name": "stdout",
          "text": [
            "                  NOME DO PACIENTE     TELEFONE\n",
            "0        Marilice da Silva Manhami  17997232001\n",
            "1          Wellington José Pereira  17992119042\n",
            "2    CAROLINE CONCEIÇAO FERNANDES   17992822519\n",
            "3            JOSE MARCIO RODRIGUES  17992479641\n",
            "4     Antonio Kazumi Oliveira Ito   17991166232\n",
            "5  Denise Cristine Chiavelli Neiva  17997360328\n",
            "6   Wellington Aparecido de Jesus   17997827565\n",
            "7            Eriton Russo de Souza  17997659288\n",
            "8       Patricia Rezende Fontoura   64996072734\n",
            "9      ANI CARINA SANTOS FERNANDES    997581658\n"
          ]
        }
      ],
      "source": [
        "# Convertendo a coluna \"TELEFONE\" para string e tratando nulos\n",
        "dataset['TELEFONE'] = dataset['TELEFONE'].apply(lambda x: str(x) if pd.notnull(x) else x)\n",
        "\n",
        "# Removendo caracteres não numéricos da coluna \"TELEFONE\"\n",
        "dataset['TELEFONE'] = dataset['TELEFONE'].str.replace('[^\\d]', '', regex=True)\n",
        "\n",
        "# Exibindo os resultados após a padronização para verificação\n",
        "print(dataset[['NOME DO PACIENTE', 'TELEFONE']].head(10))"
      ]
    },
    {
      "cell_type": "code",
      "source": [
        "# Análise Inicial do Dataset\n",
        "\n",
        "# Exibindo informações gerais do dataset, incluindo o número de entradas, tipos de dados e presença de valores nulos\n",
        "print(\"Informações Gerais do Dataset:\\n\")\n",
        "dataset.info()\n",
        "\n",
        "# Exibindo um resumo estatístico do dataset\n",
        "print(\"\\nResumo Estatístico do Dataset:\\n\")\n",
        "print(dataset.describe())\n",
        "\n",
        "# Comentário sobre o resumo estatístico\n",
        "print(\"\\nO resumo estatístico fornece uma visão geral das medidas centrais e de dispersão dos dados numéricos. \" +\n",
        "      \"Essas informações são essenciais para entender a variação e a distribuição dos dados, ajudando na identificação \" +\n",
        "      \"de padrões, anomalias e na definição de estratégias de normalização ou padronização dos dados.\")\n"
      ],
      "metadata": {
        "colab": {
          "base_uri": "https://localhost:8080/"
        },
        "id": "9obbfyVwIUS3",
        "outputId": "5aa84197-09b0-4736-e393-4cdd013c99bf"
      },
      "execution_count": 20,
      "outputs": [
        {
          "output_type": "stream",
          "name": "stdout",
          "text": [
            "Informações Gerais do Dataset:\n",
            "\n",
            "<class 'pandas.core.frame.DataFrame'>\n",
            "RangeIndex: 4471 entries, 0 to 4470\n",
            "Data columns (total 18 columns):\n",
            " #   Column                               Non-Null Count  Dtype  \n",
            "---  ------                               --------------  -----  \n",
            " 0   Carimbo de data/hora                 4471 non-null   object \n",
            " 1   UNIDADE NOTIFICADORA                 4023 non-null   object \n",
            " 2   UNIDADE DE SAÚDE                     2398 non-null   object \n",
            " 3   NÚMERO DO SINAN                      4471 non-null   int64  \n",
            " 4   NOME DO PACIENTE                     4471 non-null   object \n",
            " 5   D/N PACIENTE                         4471 non-null   object \n",
            " 6   IDADE                                4469 non-null   float64\n",
            " 7   ENDEREÇO                             4470 non-null   object \n",
            " 8   NÚMERO                               4462 non-null   object \n",
            " 9   BAIRRO                               4469 non-null   object \n",
            " 10  TELEFONE                             4471 non-null   object \n",
            " 11  DATA DA NOTIFICAÇÃO                  4471 non-null   object \n",
            " 12  DATA DO 1º SINTOMAS                  4471 non-null   object \n",
            " 13  OCUPAÇÃO                             4471 non-null   object \n",
            " 14  LOCAL E ENDEREÇO OCUPAÇÃO?           4470 non-null   object \n",
            " 15  AVALIAÇÃO DE ENCERRAMENTO (DENGUE)   4470 non-null   object \n",
            " 16  DATA DO ENCERRAMENTO DA NOTIFICAÇÃO  2426 non-null   object \n",
            " 17  Padronizado                          4471 non-null   object \n",
            "dtypes: float64(1), int64(1), object(16)\n",
            "memory usage: 628.9+ KB\n",
            "\n",
            "Resumo Estatístico do Dataset:\n",
            "\n",
            "       NÚMERO DO SINAN        IDADE\n",
            "count     4.471000e+03  4469.000000\n",
            "mean      1.458937e+06    37.400090\n",
            "std       2.191040e+06   138.809769\n",
            "min       4.671900e+04     0.000000\n",
            "25%       7.452545e+05    18.000000\n",
            "50%       7.474050e+05    29.000000\n",
            "75%       7.764895e+05    43.000000\n",
            "max       1.605198e+07  5173.000000\n",
            "\n",
            "O resumo estatístico fornece uma visão geral das medidas centrais e de dispersão dos dados numéricos. Essas informações são essenciais para entender a variação e a distribuição dos dados, ajudando na identificação de padrões, anomalias e na definição de estratégias de normalização ou padronização dos dados.\n"
          ]
        }
      ]
    },
    {
      "cell_type": "code",
      "execution_count": 21,
      "metadata": {
        "id": "5HrBs8mbhrwf",
        "colab": {
          "base_uri": "https://localhost:8080/"
        },
        "outputId": "6e32c0d2-6009-4326-b135-b10c730acf67"
      },
      "outputs": [
        {
          "output_type": "stream",
          "name": "stdout",
          "text": [
            "\n",
            "Verificação de Dados Nulos no Dataset:\n",
            "\n",
            "Carimbo de data/hora                      0\n",
            "UNIDADE NOTIFICADORA                    448\n",
            "UNIDADE DE SAÚDE                       2073\n",
            "NÚMERO DO SINAN                           0\n",
            "NOME DO PACIENTE                          0\n",
            "                                       ... \n",
            "OCUPAÇÃO                                  0\n",
            "LOCAL E ENDEREÇO OCUPAÇÃO?                1\n",
            "AVALIAÇÃO DE ENCERRAMENTO (DENGUE)        1\n",
            "DATA DO ENCERRAMENTO DA NOTIFICAÇÃO    2045\n",
            "Padronizado                               0\n",
            "Length: 18, dtype: int64\n",
            "\n",
            "A verificação de dados nulos é crucial para avaliar a qualidade e a integridade do nosso dataset. Dados faltantes podem afetar significativamente a precisão das análises e a validade dos resultados.\n"
          ]
        }
      ],
      "source": [
        "# Verificação de Dados Nulos\n",
        "\n",
        "# Contando e exibindo a quantidade de valores nulos em cada coluna do dataset\n",
        "print(\"\\nVerificação de Dados Nulos no Dataset:\\n\")\n",
        "dados_nulos = dataset.isnull().sum()\n",
        "print(dados_nulos)\n",
        "\n",
        "# Comentário sobre a importância da verificação de dados nulos\n",
        "print(\"\\nA verificação de dados nulos é crucial para avaliar a qualidade e a integridade do nosso dataset. \" +\n",
        "      \"Dados faltantes podem afetar significativamente a precisão das análises e a validade dos resultados.\")\n"
      ]
    },
    {
      "cell_type": "code",
      "execution_count": 22,
      "metadata": {
        "id": "8MD0m9cAlaUq",
        "colab": {
          "base_uri": "https://localhost:8080/"
        },
        "outputId": "cf310aa2-49c8-4e85-ea50-a11411be9ea4"
      },
      "outputs": [
        {
          "output_type": "stream",
          "name": "stdout",
          "text": [
            "\n",
            "Normalizando e Padronizando Dados Textuais:\n",
            "\n",
            "\n",
            "A normalização e padronização de dados textuais ajudam a garantir a consistência e a comparabilidade das informações, removendo discrepâncias como espaços extras, variações de caixa e espaços em branco desnecessários.\n"
          ]
        }
      ],
      "source": [
        "# Normalização e Padronização de Dados Textuais\n",
        "\n",
        "# Normalizando e padronizando colunas de texto\n",
        "print(\"\\nNormalizando e Padronizando Dados Textuais:\\n\")\n",
        "colunas_para_normalizar = ['UNIDADE NOTIFICADORA ', 'UNIDADE DE SAÚDE', 'NOME DO PACIENTE',\n",
        "                           'ENDEREÇO', 'BAIRRO', 'OCUPAÇÃO', 'LOCAL E ENDEREÇO OCUPAÇÃO?']\n",
        "\n",
        "for coluna in colunas_para_normalizar:\n",
        "    dataset[coluna] = dataset[coluna].astype(str).str.replace('  ', ' ').str.lower().str.strip()\n",
        "\n",
        "# Comentário sobre a normalização e padronização de dados textuais\n",
        "print(\"\\nA normalização e padronização de dados textuais ajudam a garantir a consistência e a comparabilidade \" +\n",
        "      \"das informações, removendo discrepâncias como espaços extras, variações de caixa e espaços em branco desnecessários.\")\n"
      ]
    },
    {
      "cell_type": "code",
      "source": [
        "# Conversão de Colunas para DateTime\n",
        "\n",
        "# Convertendo colunas específicas para o formato de data e hora\n",
        "print(\"\\nConvertendo Colunas para o Formato DateTime:\\n\")\n",
        "colunas_para_converter = ['Carimbo de data/hora','D/N PACIENTE', 'DATA DO ENCERRAMENTO DA NOTIFICAÇÃO', 'DATA DA NOTIFICAÇÃO']\n",
        "\n",
        "for coluna in colunas_para_converter:\n",
        "    dataset[coluna] = pd.to_datetime(dataset[coluna], errors='coerce')\n",
        "\n",
        "# Verificando os resultados após a conversão\n",
        "print(dataset[colunas_para_normalizar + colunas_para_converter].head())\n",
        "\n",
        "# Comentário sobre a conversão para DateTime\n",
        "print(\"\\nA conversão de colunas relevantes para o formato DateTime facilita análises temporais e cronológicas, \" +\n",
        "      \"permitindo um tratamento mais eficiente e preciso de dados relacionados a datas e horários.\")\n"
      ],
      "metadata": {
        "colab": {
          "base_uri": "https://localhost:8080/"
        },
        "id": "hdFYnW2WJplI",
        "outputId": "0cafa13a-5766-40d4-d540-cf3d32311ab1"
      },
      "execution_count": 23,
      "outputs": [
        {
          "output_type": "stream",
          "name": "stdout",
          "text": [
            "\n",
            "Convertendo Colunas para o Formato DateTime:\n",
            "\n",
            "  UNIDADE NOTIFICADORA  UNIDADE DE SAÚDE              NOME DO PACIENTE         ENDEREÇO                           BAIRRO    OCUPAÇÃO LOCAL E ENDEREÇO OCUPAÇÃO? Carimbo de data/hora D/N PACIENTE DATA DO ENCERRAMENTO DA NOTIFICAÇÃO DATA DA NOTIFICAÇÃO\n",
            "0           pa pozzobon         pozzobon     marilice da silva manhami   renato fonseca  parque residencial santa amélia  professora                 não consta  2023-01-01 20:55:43   1977-01-26                          2023-01-13          2023-01-01\n",
            "1           pa pozzobon         pozzobon       wellington josé pereira   renato fonseca  parque residencial santa amélia   repositor                 não consta  2023-01-01 21:01:44   2003-09-04                          2023-01-19          2023-01-01\n",
            "2           pa pozzobon         pró povo  caroline conceiçao fernandes     rio colorado                         pozzobon      do lar                     do lar  2023-01-01 23:54:49   1999-08-12                          2023-09-01          2023-01-01\n",
            "3         casa de saude     jardim marin         jose marcio rodrigues     daniel marin                    portal do sol           .                          .  2023-02-01 04:24:43   1971-05-14                          2023-01-19          2023-01-01\n",
            "4         casa de saude              nan   antonio kazumi oliveira ito  aristides gallo                          cecap 2       menor                 residência  2023-02-01 09:36:05   2022-02-03                          2023-11-01          2022-12-31\n",
            "\n",
            "A conversão de colunas relevantes para o formato DateTime facilita análises temporais e cronológicas, permitindo um tratamento mais eficiente e preciso de dados relacionados a datas e horários.\n"
          ]
        }
      ]
    },
    {
      "cell_type": "code",
      "execution_count": 24,
      "metadata": {
        "id": "3YsJMTTBpg52",
        "colab": {
          "base_uri": "https://localhost:8080/"
        },
        "outputId": "52db7b2c-7aa5-4f66-a3cc-761227c7fa91"
      },
      "outputs": [
        {
          "output_type": "stream",
          "name": "stdout",
          "text": [
            "     Carimbo de data/hora UNIDADE NOTIFICADORA  UNIDADE DE SAÚDE  NÚMERO DO SINAN                   NOME DO PACIENTE D/N PACIENTE  IDADE                 ENDEREÇO NÚMERO                            BAIRRO     TELEFONE DATA DA NOTIFICAÇÃO DATA DO 1º SINTOMAS    OCUPAÇÃO LOCAL E ENDEREÇO OCUPAÇÃO? AVALIAÇÃO DE ENCERRAMENTO (DENGUE) DATA DO ENCERRAMENTO DA NOTIFICAÇÃO                        Padronizado\n",
            "0     2023-01-01 20:55:43           pa pozzobon         pozzobon           733556          marilice da silva manhami   1977-01-26   45.0           renato fonseca    2576  parque residencial santa amélia  17997232001          2023-01-01          28/12/2022  professora                 não consta                343 Dias (Negativo)                          2023-01-13                           Negativo\n",
            "1     2023-01-01 21:01:44           pa pozzobon         pozzobon           733557            wellington josé pereira   2003-09-04   19.0           renato fonseca    3151  parque residencial santa amélia  17992119042          2023-01-01          01/01/2023   repositor                 não consta                            96 dias                          2023-01-19                    Em Investigação\n",
            "2     2023-01-01 23:54:49           pa pozzobon         pró povo           733558       caroline conceiçao fernandes   1999-08-12   23.0             rio colorado    2360                         pozzobon  17992822519          2023-01-01          28/12/2022      do lar                     do lar                343 Dias (Negativo)                          2023-09-01                           Negativo\n",
            "3     2023-02-01 04:24:43         casa de saude     jardim marin           733559              jose marcio rodrigues   1971-05-14   51.0             daniel marin    5998                    portal do sol  17992479641          2023-01-01          01/01/2023           .                          .     339 Dias (Descartado Crit. CE)                          2023-01-19  Descartado Clínico Epidemiológico\n",
            "4     2023-02-01 09:36:05         casa de saude              nan           723033        antonio kazumi oliveira ito   2022-02-03    9.0          aristides gallo    5179                          cecap 2  17991166232          2022-12-31          27/12/2022       menor                 residência     344 Dias (Descartado Crit. CE)                          2023-11-01  Descartado Clínico Epidemiológico\n",
            "...                   ...                   ...              ...              ...                                ...          ...    ...                      ...     ...                              ...          ...                 ...                 ...         ...                        ...                                ...                                 ...                                ...\n",
            "4466  2023-06-12 10:25:43                   upa              nan          1928283     luiz augusto oliveira da silva   2016-12-26    6.0                   manaus     486                       jard marim  17997036856          2016-06-12          04/12/2023           -                          -                             2 Dias                                 NaT                    Em Investigação\n",
            "4467  2023-06-12 10:30:59                   upa              nan          1928284           nathalia nunes bombonato   1994-09-07   29.0  jose tolentino de souza    2286                      res do lago  17996661263          2023-06-12          05/12/2023           -                          -                             1 Dias                                 NaT                    Em Investigação\n",
            "4468  2023-06-12 10:45:37           pa pozzobon         são joão          1922039  carla zamforlin miller dos santos   1984-09-12   38.0                     ivai    1911                  jardim eldorado  17991459328          2023-06-12          05/12/2023  cozinheira                    roseira                             1 Dias                                 NaT                    Em Investigação\n",
            "4469  2023-06-12 13:36:03                   upa              nan          1928286            vinicius cristiano dias   1994-03-15   29.0           rio de janeiro    1787            chacara das paineiras  17982156584          2023-06-12          05/12/2023  marmorists                          -                             1 Dias                                 NaT                    Em Investigação\n",
            "4470  2023-06-12 15:38:44                   upa     jardim marin          1928285           tiago de lima dos santos   2001-11-14   22.0         angelo petenucci    6449                    santa felicia  17997941468          2023-06-12          03/12/2023  açougueiro                                                           NaN                                 NaT             Valor não é uma string\n",
            "\n",
            "[4471 rows x 18 columns]\n"
          ]
        }
      ],
      "source": [
        "print(dataset)"
      ]
    },
    {
      "cell_type": "code",
      "execution_count": 25,
      "metadata": {
        "id": "xtSjp3qUxYE8",
        "colab": {
          "base_uri": "https://localhost:8080/"
        },
        "outputId": "815bfe6d-6bc3-4bea-9285-c401c426ac77"
      },
      "outputs": [
        {
          "output_type": "stream",
          "name": "stdout",
          "text": [
            "<class 'pandas.core.frame.DataFrame'>\n",
            "RangeIndex: 4471 entries, 0 to 4470\n",
            "Data columns (total 18 columns):\n",
            " #   Column                               Non-Null Count  Dtype         \n",
            "---  ------                               --------------  -----         \n",
            " 0   Carimbo de data/hora                 4471 non-null   datetime64[ns]\n",
            " 1   UNIDADE NOTIFICADORA                 4471 non-null   object        \n",
            " 2   UNIDADE DE SAÚDE                     4471 non-null   object        \n",
            " 3   NÚMERO DO SINAN                      4471 non-null   int64         \n",
            " 4   NOME DO PACIENTE                     4471 non-null   object        \n",
            " 5   D/N PACIENTE                         4447 non-null   datetime64[ns]\n",
            " 6   IDADE                                4469 non-null   float64       \n",
            " 7   ENDEREÇO                             4471 non-null   object        \n",
            " 8   NÚMERO                               4462 non-null   object        \n",
            " 9   BAIRRO                               4471 non-null   object        \n",
            " 10  TELEFONE                             4471 non-null   object        \n",
            " 11  DATA DA NOTIFICAÇÃO                  4455 non-null   datetime64[ns]\n",
            " 12  DATA DO 1º SINTOMAS                  4471 non-null   object        \n",
            " 13  OCUPAÇÃO                             4471 non-null   object        \n",
            " 14  LOCAL E ENDEREÇO OCUPAÇÃO?           4471 non-null   object        \n",
            " 15  AVALIAÇÃO DE ENCERRAMENTO (DENGUE)   4470 non-null   object        \n",
            " 16  DATA DO ENCERRAMENTO DA NOTIFICAÇÃO  2425 non-null   datetime64[ns]\n",
            " 17  Padronizado                          4471 non-null   object        \n",
            "dtypes: datetime64[ns](4), float64(1), int64(1), object(12)\n",
            "memory usage: 628.9+ KB\n",
            "None\n"
          ]
        }
      ],
      "source": [
        "print(dataset.info())"
      ]
    },
    {
      "cell_type": "markdown",
      "source": [
        "###Cálculo da Idade a Partir da Data de Nascimento\n",
        "\n",
        "**Introdução ao Cálculo de Idade:**\n",
        "\n",
        "Devido à inconsistência nos dados da coluna 'IDADE' reportado pela Vigilância Epidemiológica, optamos por calcular a idade dos pacientes usando suas\n",
        "datas de nascimento ('D/N PACIENTE'). Este método assegura maior precisão e padronização na determinação das idades, pois a idade era calculada manualmente pelas enfermeiras, ao contrário da data de nascimento que estava no documento do paciente.\n",
        "\n",
        "**Processo de Cálculo:**\n",
        "\n",
        "1. Calculamos a diferença entre o ano atual e o ano de nascimento do paciente.\n",
        "2. Ajustamos a idade para os casos em que o aniversário do paciente ainda não ocorreu no ano atual.\n",
        "3. Este processo resulta em idades calculadas de forma mais precisa e confiável.\n",
        "\n",
        "**Código e Verificação:**\n",
        "\n",
        "- O código a seguir realiza o cálculo da idade com base na data de nascimento.\n",
        "- Após o cálculo, exibimos as primeiras linhas do dataset para verificar os resultados."
      ],
      "metadata": {
        "id": "VrP3y7H5LQlQ"
      }
    },
    {
      "cell_type": "code",
      "execution_count": 29,
      "metadata": {
        "id": "is-Hg5yh62HW",
        "colab": {
          "base_uri": "https://localhost:8080/"
        },
        "outputId": "bd1e4a6d-eda1-4f3b-d712-869f6cc8b8e3"
      },
      "outputs": [
        {
          "output_type": "stream",
          "name": "stdout",
          "text": [
            "  D/N PACIENTE  IDADE\n",
            "0   1977-01-26   46.0\n",
            "1   2003-09-04   20.0\n",
            "2   1999-08-12   24.0\n",
            "3   1971-05-14   52.0\n",
            "4   2022-02-03    1.0\n"
          ]
        }
      ],
      "source": [
        "from datetime import datetime\n",
        "\n",
        "# Definindo a data atual\n",
        "data_atual = datetime.now()\n",
        "\n",
        "# Certifique-se de que a coluna 'D/N PACIENTE' está no formato datetime\n",
        "dataset['D/N PACIENTE'] = pd.to_datetime(dataset['D/N PACIENTE'])\n",
        "\n",
        "# Calculando a idade com base na data de nascimento\n",
        "dataset['IDADE'] = dataset['D/N PACIENTE'].apply(lambda x: data_atual.year - x.year if pd.notnull(x) else None)\n",
        "\n",
        "# Ajustando a idade para aniversários não ocorridos no ano atual\n",
        "dataset['IDADE'] = dataset.apply(lambda row: row['IDADE'] - 1\n",
        "                                 if pd.notnull(row['D/N PACIENTE']) and\n",
        "                                    (data_atual.month, data_atual.day) <\n",
        "                                    (row['D/N PACIENTE'].month, row['D/N PACIENTE'].day)\n",
        "                                 else row['IDADE'], axis=1)\n",
        "\n",
        "# Exibindo os resultados para verificação\n",
        "print(dataset[['D/N PACIENTE', 'IDADE']].head())\n"
      ]
    },
    {
      "cell_type": "code",
      "execution_count": null,
      "metadata": {
        "id": "rEZe0gJX9u8b"
      },
      "outputs": [],
      "source": [
        "# Filtrando as linhas onde 'D/N PACIENTE' ou 'IDADE' estão vazias\n",
        "dataset_vazios = dataset[dataset['D/N PACIENTE'].isnull() | dataset['IDADE'].isnull()]\n",
        "\n",
        "# Exibindo o nome do paciente e as células vazias\n",
        "print(dataset_vazios[['NOME DO PACIENTE', 'D/N PACIENTE', 'IDADE']])"
      ]
    },
    {
      "cell_type": "markdown",
      "source": [
        "###Substituição de Valores Nulos na Coluna 'IDADE' pela Média\n",
        "\n",
        "**Introdução à Substituição de Valores Nulos:**\n",
        "\n",
        "Enfrentamos o desafio de lidar com valores nulos na coluna 'IDADE' do nosso dataset.\n",
        "Para garantir a integridade da nossa análise, optamos por substituir esses valores nulos pela média de idade\n",
        "dos registros não nulos. Esta abordagem nos ajuda a manter a consistência dos dados sem introduzir\n",
        "grandes distorções.\n",
        "\n",
        "**Processo de Substituição:**\n",
        "\n",
        "1. Calculamos a média de idade, excluindo os registros onde a idade é nula.\n",
        "2. Substituímos os valores nulos na coluna 'IDADE' pela média calculada.\n",
        "3. Esta técnica é utilizada para manter a integridade dos dados e permitir análises estatísticas mais robustas.\n",
        "\n",
        "**Código e Verificação:**\n",
        "\n",
        "- O código a seguir executa o cálculo da média e a substituição de valores nulos.\n",
        "- Verificamos os resultados exibindo algumas linhas do dataset após a substituição."
      ],
      "metadata": {
        "id": "WZtp7NbTNBDK"
      }
    },
    {
      "cell_type": "code",
      "execution_count": null,
      "metadata": {
        "id": "eyAnFqJbFJYV"
      },
      "outputs": [],
      "source": [
        "# Calculando a média de idade (excluindo os valores nulos)\n",
        "idade_media = dataset['IDADE'].mean()\n",
        "\n",
        "# Substituindo valores NaN na coluna 'IDADE' pela média calculada\n",
        "dataset['IDADE'].fillna(idade_media, inplace=True)\n",
        "\n",
        "# Exibindo algumas linhas do dataset para verificar o resultado da substituição\n",
        "print(dataset[['NOME DO PACIENTE', 'D/N PACIENTE', 'IDADE']].head(10))\n"
      ]
    },
    {
      "cell_type": "code",
      "execution_count": null,
      "metadata": {
        "id": "0cZiDMCQFPaL"
      },
      "outputs": [],
      "source": [
        "# Verificando a quantidade de valores nulos na coluna 'IDADE'\n",
        "nulos_idade = dataset['IDADE'].isnull().sum()\n",
        "print(nulos_idade)\n"
      ]
    },
    {
      "cell_type": "code",
      "execution_count": null,
      "metadata": {
        "id": "R2V8lmfsFgAg"
      },
      "outputs": [],
      "source": [
        "# distribuição das classes\n",
        "print(dataset.groupby('IDADE').size())"
      ]
    },
    {
      "cell_type": "code",
      "execution_count": null,
      "metadata": {
        "id": "8lM32dCOFt6F"
      },
      "outputs": [],
      "source": [
        "dataset['IDADE'].describe()"
      ]
    },
    {
      "cell_type": "code",
      "execution_count": null,
      "metadata": {
        "id": "6_Y1u9OsH4sD"
      },
      "outputs": [],
      "source": [
        "# Filtrando a linha onde a idade é -1\n",
        "paciente_idade_negativa = dataset[dataset['IDADE'] == -1]\n",
        "\n",
        "# Exibindo o nome do paciente, data de nascimento e idade\n",
        "print(paciente_idade_negativa[['NOME DO PACIENTE', 'D/N PACIENTE', 'IDADE']])\n"
      ]
    },
    {
      "cell_type": "code",
      "execution_count": null,
      "metadata": {
        "id": "Vm3YzMoOJ-Y6"
      },
      "outputs": [],
      "source": [
        "# Calculando a média de idade (excluindo os valores nulos e a idade -1)\n",
        "idade_media = dataset[dataset['IDADE'] >= 0]['IDADE'].mean()\n",
        "\n",
        "# Substituindo a idade -1 pela média calculada\n",
        "dataset.loc[dataset['IDADE'] == -1, 'IDADE'] = idade_media\n",
        "\n",
        "# Verificando se a substituição foi realizada com sucesso\n",
        "print(dataset[dataset['IDADE'] == -1])\n",
        "print(dataset['IDADE'].describe())"
      ]
    },
    {
      "cell_type": "code",
      "execution_count": null,
      "metadata": {
        "id": "oH8hLLGDLzVz"
      },
      "outputs": [],
      "source": [
        "# Filtrando as linhas onde a idade é 0\n",
        "pacientes_idade_zero = dataset[dataset['IDADE'] == 0]\n",
        "\n",
        "# Exibindo o nome do paciente, data de nascimento e idade\n",
        "print(pacientes_idade_zero[['NOME DO PACIENTE', 'D/N PACIENTE', 'IDADE']])\n"
      ]
    },
    {
      "cell_type": "code",
      "execution_count": null,
      "metadata": {
        "id": "7H96hPAMNBtO"
      },
      "outputs": [],
      "source": [
        "# Filtrando as linhas onde 'DATA DA NOTIFICAÇÃO' é anterior à 'D/N PACIENTE'\n",
        "inconsistencias = dataset[dataset['DATA DA NOTIFICAÇÃO'] < dataset['D/N PACIENTE']]\n",
        "\n",
        "# Exibindo as inconsistências\n",
        "print(inconsistencias[['NOME DO PACIENTE', 'DATA DA NOTIFICAÇÃO', 'D/N PACIENTE']])"
      ]
    },
    {
      "cell_type": "code",
      "execution_count": null,
      "metadata": {
        "id": "UQaa_GNdQBUc"
      },
      "outputs": [],
      "source": [
        "from datetime import timedelta\n",
        "\n",
        "# Substituindo as datas de notificação inconsistentes\n",
        "# As datas de notificação que forem anteriores à data de nascimento serão ajustadas para um mês após a data de nascimento\n",
        "dataset.loc[dataset['DATA DA NOTIFICAÇÃO'] < dataset['D/N PACIENTE'], 'DATA DA NOTIFICAÇÃO'] = dataset['D/N PACIENTE'] + timedelta(days=7)\n",
        "\n",
        "# Verificando os resultados\n",
        "print(dataset[['NOME DO PACIENTE', 'DATA DA NOTIFICAÇÃO', 'D/N PACIENTE']])"
      ]
    },
    {
      "cell_type": "code",
      "execution_count": null,
      "metadata": {
        "id": "5cuYWwpqQJJ7"
      },
      "outputs": [],
      "source": [
        "# Filtrando as linhas onde 'DATA DA NOTIFICAÇÃO' é anterior à 'D/N PACIENTE'\n",
        "inconsistencias = dataset[dataset['DATA DA NOTIFICAÇÃO'] < dataset['D/N PACIENTE']]\n",
        "\n",
        "# Exibindo as inconsistências\n",
        "print(inconsistencias[['NOME DO PACIENTE', 'DATA DA NOTIFICAÇÃO', 'D/N PACIENTE']])"
      ]
    },
    {
      "cell_type": "code",
      "execution_count": null,
      "metadata": {
        "id": "01SExgswQbAv"
      },
      "outputs": [],
      "source": [
        "print(dataset['DATA DA NOTIFICAÇÃO'].describe())"
      ]
    },
    {
      "cell_type": "code",
      "source": [
        "# Convertendo as colunas para datetime\n",
        "dataset['DATA DA NOTIFICAÇÃO'] = pd.to_datetime(dataset['DATA DA NOTIFICAÇÃO'], errors='coerce')\n",
        "dataset['DATA DO 1º SINTOMAS'] = pd.to_datetime(dataset['DATA DO 1º SINTOMAS'], errors='coerce')\n",
        "\n",
        "# Substituindo as datas de notificação que não são de 2023\n",
        "ano_de_analise = 2023\n",
        "dataset.loc[dataset['DATA DA NOTIFICAÇÃO'].dt.year != ano_de_analise, 'DATA DA NOTIFICAÇÃO'] = dataset['DATA DO 1º SINTOMAS'] + pd.Timedelta(days=30)"
      ],
      "metadata": {
        "id": "ZpDOvjuX1tys"
      },
      "execution_count": null,
      "outputs": []
    },
    {
      "cell_type": "code",
      "source": [
        "print(dataset['DATA DA NOTIFICAÇÃO'].describe())"
      ],
      "metadata": {
        "id": "N9FqMsDl1zec"
      },
      "execution_count": null,
      "outputs": []
    },
    {
      "cell_type": "markdown",
      "source": [
        "###Análise Temporal das Notificações de Dengue em 2023\n",
        "\n",
        "**Introdução à Análise Temporal:**\n",
        "\n",
        "Nesta seção, focamos em analisar a distribuição temporal das notificações de dengue no ano de 2023.\n",
        "O objetivo é identificar tendências mensais nas notificações, o que pode revelar padrões sazonais ou picos\n",
        "de incidência da doença. Essa análise é crucial para planejar estratégias de prevenção e controle em saúde pública.\n",
        "\n",
        "**Processo de Análise:**\n",
        "\n",
        "1. Filtramos o dataset para incluir apenas as notificações do ano de 2023.\n",
        "2. Agrupamos os dados por mês e contabilizamos o número total de notificações para cada mês.\n",
        "3. Visualizamos os resultados em um gráfico de linhas para identificar tendências ao longo do ano.\n",
        "\n",
        "\n",
        "**Código e Visualização:**\n"
      ],
      "metadata": {
        "id": "46sifH_LQGsJ"
      }
    },
    {
      "cell_type": "code",
      "source": [
        "# Filtrando as notificações do ano de 2023\n",
        "dataset_2023 = dataset[dataset['DATA DA NOTIFICAÇÃO'].dt.year == 2023]\n",
        "\n",
        "# Agrupando por mês e contando as notificações\n",
        "notificacoes_por_mes = dataset_2023.groupby(dataset_2023['DATA DA NOTIFICAÇÃO'].dt.month).size()\n",
        "\n",
        "# Criando o gráfico de linhas para visualizar as notificações por mês\n",
        "plt.figure(figsize=(18, 6))\n",
        "notificacoes_por_mes.plot(kind='line', marker='o')\n",
        "plt.title('Total de Notificações de Dengue por Mês em 2023')\n",
        "plt.xlabel('Mês')\n",
        "plt.ylabel('Total de Notificações')\n",
        "plt.xticks(range(1, 13), ['Jan', 'Fev', 'Mar', 'Abr', 'Mai', 'Jun', 'Jul', 'Ago', 'Set', 'Out', 'Nov', 'Dez'])\n",
        "plt.grid(True)\n",
        "plt.show()"
      ],
      "metadata": {
        "id": "Pw0MhhQ62xqy"
      },
      "execution_count": null,
      "outputs": []
    },
    {
      "cell_type": "markdown",
      "source": [
        "A partir do gráfico 'Total de Notificações de Dengue por Mês em 2023', observamos uma tendência de aumento nas notificações nos meses mais quentes e úmidos, como é o caso de março. Isso alinha com o entendimento biológico do mosquito Aedes aegypti, que se reproduz em água parada, frequentemente mais disponível durante períodos de chuva. As temperaturas mais altas também aceleram o ciclo de vida do mosquito, aumentando a probabilidade de transmissão da dengue.\n",
        "\n",
        "Por outro lado, os meses mais frios e secos mostram uma diminuição nas notificações, o que pode ser atribuído à desaceleração ou interrupção no ciclo de reprodução do mosquito devido a condições ambientais menos favoráveis. Essa correlação destaca a importância de estratégias de saúde pública que considerem a sazonalidade e os padrões climáticos para o controle da dengue e outras doenças transmitidas por vetores. Lembrando que dezembro ainda não teve os dados atualizados."
      ],
      "metadata": {
        "id": "O9BARizaQTEF"
      }
    },
    {
      "cell_type": "markdown",
      "source": [
        "###**Análise da Distribuição de Notificações de Dengue por Categoria em 2023**\n",
        "\n",
        "**Introdução à Análise de Categorias:**\n",
        "\n",
        "Nesta análise, desdobramos as notificações de dengue de 2023 para compreender melhor a distribuição de casos ao longo do ano, categorizados por status de avaliação. O detalhamento por categoria permite uma análise mais granular, revelando padrões específicos de cada grupo de classificação de dengue, desde casos confirmados até notificações em investigação.\n",
        "\n",
        "**Código e Visualização:**"
      ],
      "metadata": {
        "id": "ckEQAUcBRoXs"
      }
    },
    {
      "cell_type": "code",
      "source": [
        "# Filtrando as notificações do ano de 2023\n",
        "dataset_2023 = dataset[dataset['DATA DA NOTIFICAÇÃO'].dt.year == 2023]\n",
        "\n",
        "# Preparando as cores para os atributos\n",
        "cores = {\n",
        "    'Positivo': '#e41a1c',\n",
        "    'Confirmado Clínico Epidemiológico': '#e41a1c',\n",
        "    'Em Investigação': '#ff7f00',\n",
        "    'Descartado Clínico Epidemiológico': '#377eb8',\n",
        "    'Negativo': '#377eb8',\n",
        "    'Duplicidade': '#4daf4a',\n",
        "    'Habilitada': '#4daf4a'\n",
        "}\n",
        "\n",
        "# Criando o gráfico de linhas para cada atributo\n",
        "plt.figure(figsize=(18, 6))\n",
        "for atributo in cores.keys():\n",
        "    # Filtrando por atributo e agrupando por mês\n",
        "    atributo_por_mes = dataset_2023[dataset_2023['Padronizado'] == atributo].groupby(dataset_2023['DATA DA NOTIFICAÇÃO'].dt.month).size()\n",
        "    atributo_por_mes.plot(kind='line', marker='o', color=cores[atributo], label=atributo)\n",
        "\n",
        "plt.title('Total de Notificações de Dengue por Categoria em 2023')\n",
        "plt.xlabel('Mês')\n",
        "plt.ylabel('Total de Notificações')\n",
        "plt.xticks(range(1, 13), ['Jan', 'Fev', 'Mar', 'Abr', 'Mai', 'Jun', 'Jul', 'Ago', 'Set', 'Out', 'Nov', 'Dez'])\n",
        "plt.legend()\n",
        "plt.grid(True)\n",
        "plt.show()"
      ],
      "metadata": {
        "id": "nJx_JKqj5oFw"
      },
      "execution_count": null,
      "outputs": []
    },
    {
      "cell_type": "markdown",
      "source": [
        "A visualização indica que os casos confirmados apresenta picos em períodos específicos do ano, sugerindo possíveis relações com fatores sazonais ou eventos que influenciam a transmissão da dengue. Nota-se que os meses mais quentes, que coincidem com o aumento das chuvas, tendem a ter um maior número de notificações, alinhando-se com o comportamento reprodutivo do mosquito Aedes aegypti, vetor da doença. Além disso, a categorização permite identificar a eficiência das medidas de controle e prevenção, como é evidenciado pela quantidade de casos descartados ou confirmados clinicamente."
      ],
      "metadata": {
        "id": "fHjV287WRtnk"
      }
    },
    {
      "cell_type": "markdown",
      "source": [
        "###**Categorização de Idades em Faixas Etárias**\n",
        "\n",
        "**Introdução à Categorização por Idade:**\n",
        "\n",
        "Com o objetivo de aprofundar nossa análise demográfica e entender melhor a distribuição dos casos de dengue por idade, introduzimos um processo de categorização que agrupa idades em faixas etárias. Essa estratégia permite análises segmentadas que podem revelar padrões importantes de incidência da doença em diferentes grupos populacionais.\n",
        "\n",
        "**Processo de Categorização:**\n",
        "\n",
        "Implementamos uma função, categorizar_faixa_etaria, que classifica cada idade em uma faixa etária pré-definida. Esta categorização é baseada em intervalos comuns utilizados em estudos de saúde pública para facilitar a comparação e a interpretação dos resultados.\n",
        "\n",
        "**Código e Aplicação:**\n",
        "\n",
        "O código abaixo aplica essa função à coluna 'IDADE' do nosso dataset, criando uma nova coluna 'Faixa Etária'. Com essa nova coluna, seremos capazes de realizar análises que considerem a idade dos pacientes, fornecendo uma visão mais rica dos dados e potencializando o entendimento do impacto da dengue em diferentes faixas da população."
      ],
      "metadata": {
        "id": "GYl1TkwASpCZ"
      }
    },
    {
      "cell_type": "code",
      "source": [
        "# Função para categorizar as idades em faixas etárias\n",
        "def categorizar_faixa_etaria(idade):\n",
        "    if idade < 5:\n",
        "        return '0 a 4 anos'\n",
        "    elif idade < 10:\n",
        "        return '5 a 9 anos'\n",
        "    elif idade < 15:\n",
        "        return '10 a 14 anos'\n",
        "    elif idade < 20:\n",
        "        return '15 a 19 anos'\n",
        "    elif idade < 25:\n",
        "        return '20 a 24 anos'\n",
        "    elif idade < 35:\n",
        "        return '25 a 34 anos'\n",
        "    elif idade < 45:\n",
        "        return '35 a 44 anos'\n",
        "    elif idade < 55:\n",
        "        return '45 a 54 anos'\n",
        "    elif idade < 65:\n",
        "        return '55 a 64 anos'\n",
        "    else:\n",
        "        return '65 anos ou mais'\n",
        "\n",
        "# Aplicando a função à coluna 'IDADE' para criar a nova coluna 'Faixa Etária'\n",
        "dataset['Faixa Etária'] = dataset['IDADE'].apply(categorizar_faixa_etaria)\n",
        "\n",
        "# Verificando os resultados\n",
        "print(dataset[['IDADE', 'Faixa Etária']].head())\n"
      ],
      "metadata": {
        "id": "5FgxmC-n7xU8"
      },
      "execution_count": null,
      "outputs": []
    },
    {
      "cell_type": "code",
      "source": [
        "print(dataset['Faixa Etária'].describe())"
      ],
      "metadata": {
        "id": "qdJi9ym472vr"
      },
      "execution_count": null,
      "outputs": []
    },
    {
      "cell_type": "markdown",
      "source": [
        "###**Distribuição de Casos Positivos de Dengue por Faixa Etária em 2023**\n",
        "\n",
        "**Introdução à Análise por Faixa Etária:**\n",
        "\n",
        "Nossa análise agora se concentra na distribuição de casos de dengue positivos e confirmados clínicos epidemiológicos ao longo das diferentes faixas etárias no ano de 2023. A segmentação por idade é uma ferramenta valiosa que nos permite identificar grupos de maior risco e direcionar esforços de prevenção e tratamento de maneira mais efetiva.\n",
        "\n",
        "**Visualização e Análise dos Dados:**\n",
        "\n",
        "A visualização em formato de gráfico de barras nos permite observar rapidamente quais faixas etárias estão relatando mais casos de dengue, destacando possíveis vulnerabilidades ou tendências dentro da população."
      ],
      "metadata": {
        "id": "d4krWc2wTeBo"
      }
    },
    {
      "cell_type": "code",
      "source": [
        "# Filtrando somente os casos 'Positivos' e 'Confirmados Clínicos Epidemiológicos' do ano de 2023\n",
        "casos_filtrados = dataset[(dataset['Padronizado'] == 'Positivo') |\n",
        "                          (dataset['Padronizado'] == 'Confirmado Clínico Epidemiológico')]\n",
        "casos_filtrados = casos_filtrados[casos_filtrados['DATA DA NOTIFICAÇÃO'].dt.year == 2023]\n",
        "\n",
        "# Agrupando por faixa etária\n",
        "agrupado = casos_filtrados.groupby('Faixa Etária').size()\n",
        "\n",
        "# Criando o gráfico de barras\n",
        "agrupado.plot(kind='bar', color='#e41a1c', figsize=(18, 6))\n",
        "\n",
        "plt.title('Total de Casos Positivos e Confirmados Clínicos Epidemiológicos por Faixa Etária - 2023')\n",
        "plt.xlabel('Faixa Etária')\n",
        "plt.ylabel('Total de Casos')\n",
        "plt.xticks(rotation=45)\n",
        "plt.grid(axis='y')\n",
        "plt.show()"
      ],
      "metadata": {
        "id": "zerzzd9g-QKl"
      },
      "execution_count": null,
      "outputs": []
    },
    {
      "cell_type": "markdown",
      "source": [
        "**Interpretação dos Resultados:**\n",
        "\n",
        "O gráfico revela que a faixa etária de 25 a 34 anos apresenta o maior número de casos, sugerindo que adultos jovens podem estar mais expostos ou susceptíveis à doença. Interessantemente, observa-se também uma quantidade significativa de casos nas faixas de 10 a 14 e 35 a 44 anos. Isso pode estar relacionado a fatores comportamentais, de exposição ou até mesmo de imunidade dentro dessas faixas etárias.\n",
        "\n",
        "Essas informações são essenciais para as autoridades de saúde pública, pois fornecem insights sobre quais grupos etários podem necessitar de mais recursos ou campanhas de conscientização direcionadas. A análise também pode ser útil para investigar as razões por trás da distribuição observada, como diferenças no comportamento de busca por atendimento médico ou na exposição ao vetor da doença."
      ],
      "metadata": {
        "id": "H1Xo5fmiTmS8"
      }
    },
    {
      "cell_type": "markdown",
      "source": [
        "###**Análise da Distribuição de Idades por Resultado de Dengue**\n",
        "\n",
        "**Introdução à Análise Demográfica:**\n",
        "\n",
        "Para aprofundar nossa compreensão sobre a relação entre a idade dos pacientes e os resultados dos testes de dengue, realizamos uma análise utilizando boxplots. Esta técnica nos permite visualizar a distribuição de idades dentro das categorias combinadas de resultados de dengue: 'Positivo/Confirmado', 'Negativo/Descartado' e 'Em Investigação'.\n",
        "\n",
        "**Visualização e Interpretação dos Dados:**\n",
        "\n",
        "O boxplot é uma ferramenta estatística valiosa que fornece uma representação visual da distribuição de idades, destacando mediana, quartis e potenciais outliers. A utilização de cores diferentes para cada categoria facilita a comparação visual entre os grupos."
      ],
      "metadata": {
        "id": "UkTX6r1dVb9W"
      }
    },
    {
      "cell_type": "code",
      "source": [
        "# Combinando as categorias\n",
        "dataset['Categoria_Combinada'] = dataset['Padronizado']\n",
        "dataset.loc[dataset['Padronizado'].isin(['Positivo', 'Confirmado Clínico Epidemiológico']), 'Categoria_Combinada'] = 'Positivo/Confirmado'\n",
        "dataset.loc[dataset['Padronizado'].isin(['Negativo', 'Descartado Clínico Epidemiológico']), 'Categoria_Combinada'] = 'Negativo/Descartado'\n",
        "dataset.loc[dataset['Padronizado'] == 'Em Investigação', 'Categoria_Combinada'] = 'Em Investigação'\n",
        "\n",
        "# Filtrando os dados para as categorias combinadas\n",
        "categorias_combinadas = ['Positivo/Confirmado', 'Negativo/Descartado', 'Em Investigação']\n",
        "dados_filtrados = dataset[dataset['Categoria_Combinada'].isin(categorias_combinadas)]\n",
        "\n",
        "# Criando o boxplot\n",
        "plt.figure(figsize=(18, 6))\n",
        "sns.boxplot(data=dados_filtrados, x='Categoria_Combinada', y='IDADE',\n",
        "            palette={'Positivo/Confirmado': 'red', 'Negativo/Descartado': 'blue', 'Em Investigação': 'orange'})\n",
        "\n",
        "plt.title('Distribuição de Idades por Categoria Combinada de Resultado de Dengue')\n",
        "plt.xlabel('Categoria Combinada de Resultado')\n",
        "plt.ylabel('Idade')\n",
        "plt.show()\n"
      ],
      "metadata": {
        "id": "VUy1eLphugb1"
      },
      "execution_count": null,
      "outputs": []
    },
    {
      "cell_type": "markdown",
      "source": [
        "**Interpretação dos Resultados:**\n",
        "\n",
        "A visualização indica que os casos 'Positivo/Confirmado' apresentam uma distribuição de idade mais ampla, com uma mediana em torno dos 30 anos, sugerindo que essa categoria afeta uma variedade maior de faixas etárias. Já os casos 'Negativo/Descartado' mostram uma mediana de idade um pouco mais elevada, o que pode refletir um grupo demográfico diferente ou possíveis tendências de notificação e testagem. Os casos 'Em Investigação' têm uma distribuição de idade semelhante aos casos confirmados, o que é esperado, pois ainda estão sob análise para confirmação.\n",
        "\n",
        "Essas informações são cruciais para as autoridades de saúde, pois ajudam a identificar faixas etárias que podem precisar de maior atenção ou recursos. Também podem informar estratégias de prevenção e controle, ajustando abordagens de comunicação e educação em saúde para grupos específicos."
      ],
      "metadata": {
        "id": "aYGL9SyFVqx6"
      }
    },
    {
      "cell_type": "markdown",
      "source": [
        "###**Crescimento Acumulado de Notificações de Dengue em 2023**\n",
        "\n",
        "**Introdução à Análise de Crescimento Acumulado:**\n",
        "\n",
        "Nesta seção, apresentamos uma análise do crescimento acumulado das notificações de dengue ao longo dos meses de 2023. Esta abordagem permite não apenas visualizar o total de casos até cada mês, mas também observar as mudanças mês a mês, proporcionando uma compreensão do ritmo de aumento ou diminuição das notificações ao longo do ano.\n",
        "\n",
        "**Análise de Dados e Metodologia:**\n",
        "\n",
        "Para esta análise, filtramos o dataset para incluir somente os dados do ano de 2023. Agrupamos as notificações por mês e calculamos o total acumulado e a variação percentual de um mês para o outro. Os dados são visualizados em um gráfico de barras, onde as anotações indicam o total de notificações e o aumento percentual mensal, destacando as tendências no volume de casos reportados.\n",
        "\n",
        "**Visualização e Interpretação dos Resultados:**\n",
        "\n",
        "O gráfico a seguir mostra um pico significativo em março, seguido por uma diminuição nos meses subsequentes. Esta tendência pode estar associada a fatores sazonais que influenciam a proliferação do vetor da dengue, como variações no clima ou eficácia das campanhas de prevenção. É notável que, após um período de declínio, há um leve aumento em agosto, o que pode indicar uma segunda onda de casos ou mudanças nas condições ambientais."
      ],
      "metadata": {
        "id": "Djv_b_jOkoAJ"
      }
    },
    {
      "cell_type": "code",
      "source": [
        "# Filtrando os dados para o ano de 2023\n",
        "dataset_2023 = dataset[dataset['DATA DA NOTIFICAÇÃO'].dt.year == 2023]\n",
        "\n",
        "# Extraindo o mês da data da notificação\n",
        "dataset_2023['Mês'] = dataset_2023['DATA DA NOTIFICAÇÃO'].dt.month\n",
        "\n",
        "# Agrupando os dados por mês e contando o número de notificações\n",
        "notificacoes_por_mes = dataset_2023.groupby('Mês').size().reset_index(name='Notificações')\n",
        "\n",
        "# Calculando o total acumulado de notificações até cada mês\n",
        "notificacoes_por_mes['Total Acumulado'] = notificacoes_por_mes['Notificações'].cumsum()\n",
        "\n",
        "# Calculando o aumento de casos de um mês para o outro\n",
        "notificacoes_por_mes['Aumento Mensal'] = notificacoes_por_mes['Notificações'] - notificacoes_por_mes['Notificações'].shift(1)\n",
        "notificacoes_por_mes['Aumento Mensal'].fillna(0, inplace=True)\n",
        "\n",
        "# Calculando a porcentagem de aumento\n",
        "notificacoes_por_mes['Aumento Percentual'] = (notificacoes_por_mes['Aumento Mensal'] / notificacoes_por_mes['Total Acumulado'].shift(1)) * 100\n",
        "notificacoes_por_mes['Aumento Percentual'].fillna(0, inplace=True)\n",
        "\n",
        "# Preparando os dados para o gráfico\n",
        "meses = ['Jan', 'Fev', 'Mar', 'Abr', 'Mai', 'Jun', 'Jul', 'Ago', 'Set', 'Out', 'Nov', 'Dez']\n",
        "notificacoes_por_mes = notificacoes_por_mes.set_index('Mês')\n",
        "notificacoes_por_mes = notificacoes_por_mes.reindex(range(1, 13)).fillna(0)\n",
        "\n",
        "# Criando o gráfico de barras empilhadas\n",
        "plt.figure(figsize=(18, 6))\n",
        "barras = plt.bar(meses, notificacoes_por_mes['Total Acumulado'], color='skyblue')\n",
        "\n",
        "# Adicionando anotações com o total de notificações e o aumento percentual\n",
        "for barra in barras:\n",
        "    altura = barra.get_height()\n",
        "    plt.text(barra.get_x() + barra.get_width() / 2.0, altura, f'{int(altura)}', ha='center', va='bottom')\n",
        "    mes_index = barras.index(barra) + 1\n",
        "    aumento_percentual = notificacoes_por_mes.loc[mes_index, 'Aumento Percentual']\n",
        "    plt.text(barra.get_x() + barra.get_width() / 2.0, altura - (altura * 0.05), f'{aumento_percentual:.1f}%', ha='center', va='top', color='#e41a1c')\n",
        "\n",
        "# Adicionando legendas e títulos\n",
        "plt.xlabel('Mês')\n",
        "plt.ylabel('Total de Notificações')\n",
        "plt.title('Crescimento Acumulado de Notificações de Dengue em 2023')\n",
        "plt.show()\n"
      ],
      "metadata": {
        "id": "7fghNi3rP6kG"
      },
      "execution_count": null,
      "outputs": []
    },
    {
      "cell_type": "markdown",
      "source": [
        "A análise do crescimento acumulado de notificações é vital para o planejamento da saúde pública, pois ajuda a identificar períodos críticos que requerem atenção redobrada e recursos adicionais. Observar as variações percentuais mensais fornece insights valiosos sobre a dinâmica da doença e pode orientar a tomada de decisões para intervenções mais oportunas e efetivas."
      ],
      "metadata": {
        "id": "y59RNtAxlGF0"
      }
    },
    {
      "cell_type": "markdown",
      "source": [
        "###**Análise Mensal e Acumulada de Notificações de Dengue em 2023**\n",
        "\n",
        "**Introdução à Análise Temporal de Notificações:**\n",
        "\n",
        "Neste gráfico, apresentamos a evolução mensal das notificações de dengue ao longo de 2023, juntamente com o crescimento acumulado dessas notificações. Isso nos permite observar não apenas a quantidade de casos reportados a cada mês, mas também como o total de notificações se desenvolve ao longo do ano.\n",
        "\n",
        "**Metodologia e Visualização:**\n",
        "\n",
        "Utilizamos um gráfico combinado de barras e linha para ilustrar essas duas perspectivas simultaneamente. O gráfico de barras representa o total de notificações mensais, enquanto a linha exibe o acumulado ao longo do ano, com cada ponto correspondendo ao final de um mês.\n",
        "\n",
        "**Interpretação dos Resultados:**\n",
        "\n",
        "A análise mostra um aumento significativo nas notificações no início do ano, com uma tendência ascendente até abril, seguida por uma leve queda e subsequente estabilização. O crescimento acumulado reflete o impacto contínuo da dengue na área estudada, evidenciando períodos de maior e menor transmissão. A presença de picos mensais pode ser correlacionada a fatores externos, como variações climáticas ou campanhas de saúde pública."
      ],
      "metadata": {
        "id": "Hr6q6aoBlrGv"
      }
    },
    {
      "cell_type": "code",
      "source": [
        "import matplotlib.pyplot as plt\n",
        "import seaborn as sns\n",
        "\n",
        "# Filtrando os dados para o ano de 2023\n",
        "dataset_2023 = dataset[dataset['DATA DA NOTIFICAÇÃO'].dt.year == 2023]\n",
        "\n",
        "# Extraindo o mês da data da notificação\n",
        "dataset_2023['Mês'] = dataset_2023['DATA DA NOTIFICAÇÃO'].dt.month\n",
        "\n",
        "# Agrupando os dados por mês e contando o número de notificações\n",
        "notificacoes_por_mes = dataset_2023.groupby('Mês').size().reset_index(name='Total de Notificações')\n",
        "\n",
        "# Calculando o total acumulado de notificações até cada mês\n",
        "notificacoes_por_mes['Total Acumulado'] = notificacoes_por_mes['Total de Notificações'].cumsum()\n",
        "\n",
        "# Preparando os dados para o gráfico\n",
        "meses = ['Jan', 'Fev', 'Mar', 'Abr', 'Mai', 'Jun', 'Jul', 'Ago', 'Set', 'Out', 'Nov', 'Dez']\n",
        "notificacoes_por_mes = notificacoes_por_mes.set_index('Mês')\n",
        "notificacoes_por_mes = notificacoes_por_mes.reindex(range(1, 13)).fillna(0)\n",
        "\n",
        "# Criando um gráfico combinado de barras e linha\n",
        "fig, ax1 = plt.subplots(figsize=(18,6))\n",
        "\n",
        "# Gráfico de barras para o total mensal de notificações\n",
        "barras = ax1.bar(meses, notificacoes_por_mes['Total de Notificações'], color='skyblue')\n",
        "\n",
        "# Linha para o total acumulado de notificações\n",
        "ax2 = ax1.twinx()\n",
        "ax2.plot(meses, notificacoes_por_mes['Total Acumulado'], color='salmon', marker='o', linewidth=2)\n",
        "\n",
        "# Configurações dos eixos e gráfico\n",
        "ax1.set_xlabel('Mês')\n",
        "ax1.set_ylabel('Total de Notificações', color='blue')\n",
        "ax2.set_ylabel('Total Acumulado de Notificações', color='salmon')\n",
        "ax1.set_xticklabels(meses, rotation=45)\n",
        "ax2.tick_params(axis='y', labelcolor='salmon')\n",
        "plt.title('Total de Notificações e Crescimento Acumulado por Mês - 2023')\n",
        "\n",
        "# Mostrando o gráfico\n",
        "plt.show()\n"
      ],
      "metadata": {
        "id": "kZozMXPRV-Vc"
      },
      "execution_count": null,
      "outputs": []
    },
    {
      "cell_type": "markdown",
      "source": [
        "**Interpretação dos Resultados:**\n",
        "\n",
        "Este tipo de visualização é crucial para os responsáveis pela saúde pública, pois fornece uma visão clara de quando e como as notificações de dengue estão aumentando. Permite identificar os meses críticos e planejar recursos e intervenções de acordo com a necessidade, além de servir como um indicador para avaliar a eficácia das medidas de controle em vigor."
      ],
      "metadata": {
        "id": "IOvbSpP2lyYh"
      }
    },
    {
      "cell_type": "markdown",
      "source": [
        "###**Relação entre Idade e Data de Notificação para Casos de Dengue em 2023**\n",
        "\n",
        "**Introdução à Análise de Dispersão:**\n",
        "\n",
        "Este gráfico de dispersão fornece uma análise visual da distribuição de casos de dengue ao longo do tempo, discriminados por idade e resultado da notificação, para o ano de 2023. Ao representar cada caso como um ponto individual no gráfico, podemos observar padrões que podem não ser evidentes através de outros métodos de agregação de dados.\n",
        "\n",
        "**Análise de Dados e Metodologia:**\n",
        "\n",
        "Os casos foram divididos em duas categorias: 'Positivo' e 'Confirmado Clínico Epidemiológico'. Utilizamos cores distintas para diferenciar visualmente entre essas categorias. A posição horizontal dos pontos representa a data da notificação, enquanto a posição vertical indica a idade do paciente."
      ],
      "metadata": {
        "id": "t9nsN7aRn094"
      }
    },
    {
      "cell_type": "code",
      "source": [
        "# Filtrando os dados para o ano de 2023\n",
        "dataset_2023 = dataset[dataset['DATA DA NOTIFICAÇÃO'].dt.year == 2023]\n",
        "\n",
        "# Separando os casos 'Positivos'\n",
        "casos_positivos = dataset_2023[dataset_2023['Padronizado'] == 'Positivo']\n",
        "\n",
        "# Separando os casos 'Confirmados Clínico Epidemiológico'\n",
        "casos_confirmados = dataset_2023[dataset_2023['Padronizado'] == 'Confirmado Clínico Epidemiológico']\n",
        "\n",
        "# Criando o Scatter Plot\n",
        "plt.figure(figsize=(18, 6))\n",
        "plt.scatter(casos_positivos['DATA DA NOTIFICAÇÃO'], casos_positivos['IDADE'], color='#e41a1c', alpha=0.5, label='Positivo')\n",
        "plt.scatter(casos_confirmados['DATA DA NOTIFICAÇÃO'], casos_confirmados['IDADE'], color='#984ea3', alpha=0.5, label='Confirmado Clínico Epidemiológico')\n",
        "\n",
        "# Formatação do gráfico\n",
        "plt.gca().xaxis.set_major_formatter(mdates.DateFormatter('%Y-%m'))\n",
        "plt.gca().xaxis.set_major_locator(mdates.MonthLocator())\n",
        "plt.xticks(rotation=45)\n",
        "plt.xlabel('Data da Notificação')\n",
        "plt.ylabel('Idade')\n",
        "plt.title('Relação entre Idade e Data da Notificação para Casos Positivos e Confirmados Clínico Epidemiológico em 2023')\n",
        "plt.legend()\n",
        "plt.grid(True)\n",
        "plt.show()"
      ],
      "metadata": {
        "id": "MvoiNKjCXhil"
      },
      "execution_count": null,
      "outputs": []
    },
    {
      "cell_type": "markdown",
      "source": [
        "**Interpretação dos Resultados:**\n",
        "\n",
        "A distribuição dos pontos ao longo do gráfico sugere uma dispersão relativamente uniforme das idades entre os casos notificados ao longo do ano. No entanto, pode haver uma concentração ligeiramente maior de casos entre as faixas etárias médias. Isso poderia indicar que indivíduos nessas faixas etárias estão mais expostos ou têm uma probabilidade maior de serem testados e diagnosticados com dengue.\n",
        "\n",
        "**Conclusão:**\n",
        "\n",
        "O gráfico fornece insights valiosos para as autoridades de saúde, indicando que a dengue afeta uma ampla gama de idades ao longo do ano. Esta informação pode ser utilizada para direcionar esforços educativos e recursos de saúde pública para as faixas etárias mais afetadas. Além disso, a análise pode ser aprofundada para entender as razões por trás da distribuição observada e para desenvolver estratégias específicas de intervenção."
      ],
      "metadata": {
        "id": "D40Hxjpyn6UH"
      }
    },
    {
      "cell_type": "markdown",
      "source": [
        "###**Preparação do Conjunto de Dados para um Modelo de Aprendizado de Máquina**\n",
        "\n",
        "Para compreender as tendências e padrões na incidência de dengue, é crucial analisar a temporalidade e a natureza dos casos reportados. Neste contexto, nos concentramos em distinguir entre notificações positivas e negativas/descartadas, com o objetivo de identificar os períodos de pico de transmissão da doença.\n",
        "\n",
        "**Preparação dos Dados:**\n",
        "\n",
        "**Conversão de Datas:** Converta as datas de notificação em um formato numérico, como um carimbo de tempo UNIX, para facilitar a análise temporal.\n",
        "\n",
        "**Categorização dos Casos: **Agrupe os casos em categorias binárias ou múltiplas, como 'Positivo' versus 'Negativo/Descartado', para simplificar a análise comparativa.\n",
        "\n",
        "**Análise Temporal:** Utilize métodos de agregação temporal para examinar o número de casos positivos ao longo do tempo, o que pode incluir a geração de estatísticas por semana, mês ou trimestre."
      ],
      "metadata": {
        "id": "Rk1YcZHIpyAp"
      }
    },
    {
      "cell_type": "code",
      "source": [
        "# Filtrar o DataFrame para o ano de 2023\n",
        "dataset_2023 = dataset[dataset['DATA DA NOTIFICAÇÃO'].dt.year == 2023]\n",
        "\n",
        "# Categorizar os casos como 'Positivo' ou 'Negativo/Descartado'\n",
        "dataset_2023['Resultado'] = dataset_2023['Padronizado'].replace({\n",
        "    'Positivo': 'Positivo',\n",
        "    'Confirmado Clínico Epidemiológico': 'Positivo',\n",
        "    'Negativo': 'Negativo/Descartado',\n",
        "    'Descartado Clínico Epidemiológico': 'Negativo/Descartado'\n",
        "})\n",
        "\n",
        "# Agrupar por mês e resultado, e calcular a proporção de casos positivos\n",
        "agregado_mensal_2023 = dataset_2023.groupby([dataset_2023['DATA DA NOTIFICAÇÃO'].dt.to_period('M'), 'Resultado']).size().unstack().fillna(0)\n",
        "agregado_mensal_2023['Proporção Positivos'] = agregado_mensal_2023['Positivo'] / (agregado_mensal_2023['Positivo'] + agregado_mensal_2023['Negativo/Descartado'])\n",
        "\n",
        "# Exibir as proporções\n",
        "proporcao_positivos_2023 = agregado_mensal_2023['Proporção Positivos']\n",
        "proporcao_positivos_2023\n",
        "\n",
        "# Exibindo a proporção de casos positivos por mês\n",
        "print(agregado_mensal_2023['Proporção Positivos'])"
      ],
      "metadata": {
        "id": "aM4hEkb3p-PF"
      },
      "execution_count": null,
      "outputs": []
    },
    {
      "cell_type": "markdown",
      "source": [
        "###Análise dos Resultados:\n",
        "\n",
        "O resultado impresso mostra a proporção mensal de casos positivos de dengue em relação ao total de casos (positivos e negativos/descartados) para cada mês de 2023. A proporção de casos positivos varia ao longo do ano, com os menores valores sendo observados em janeiro e dezembro (aproximadamente 18%) e os maiores valores ocorrendo em fevereiro e abril (aproximadamente 27% e 27%, respectivamente).\n",
        "\n",
        "**Conclusão:**\n",
        "\n",
        "A variação na proporção de casos positivos ao longo dos meses sugere uma sazonalidade na transmissão da dengue, com picos em períodos específicos que podem estar associados a fatores como clima e comportamento do vetor. A observação de um aumento nos meses de fevereiro e abril pode indicar condições ambientais favoráveis para a proliferação do mosquito Aedes aegypti, como aumento das chuvas e temperaturas mais altas, que podem contribuir para uma maior incidência da doença.\n",
        "\n",
        "Por outro lado, as reduções observadas em outros meses podem ser resultado de esforços de prevenção e controle, como campanhas de erradicação do vetor ou mudanças climáticas que desfavorecem a reprodução do mosquito. Também pode haver variações nos esforços de notificação e diagnóstico que influenciam o número de casos relatados.\n",
        "\n",
        "Essas informações são essenciais para os planejadores de saúde pública para direcionar campanhas de conscientização e medidas de prevenção de forma mais eficaz. Os dados indicam que pode ser benéfico intensificar as medidas de controle do vetor e a educação da comunidade antes e durante os períodos de pico previstos, a fim de minimizar o impacto da dengue na população."
      ],
      "metadata": {
        "id": "XlHuwsywu8EP"
      }
    },
    {
      "cell_type": "markdown",
      "source": [
        "# **Conclusão do MVP:**\n",
        "\n",
        "Neste MVP, exploramos um conjunto de dados de notificações de dengue em Votuporanga-SP, revelando padrões significativos e desafios inerentes à análise de dados em saúde pública. Através de uma série de procedimentos de padronização e limpeza, tratamos inconsistências nos dados, como idades negativas e erros de datas de notificação.\n",
        "\n",
        "As visualizações desenvolvidas proporcionaram insights valiosos, destacando as faixas etárias mais vulneráveis à doença. Essa análise temporal detalhada dos casos nos permitiu observar tendências sazonais e padrões de transmissão da dengue, sublinhando a importância de estratégias de saúde pública bem-informadas e baseadas em dados.\n",
        "\n",
        "Além disso, este projeto ressaltou a necessidade de melhoria na coleta e manutenção de dados de saúde. Para avançar nesse aspecto, sugerimos a implementação de um novo sistema de coleta de dados que incorpore variáveis adicionais, como condições meteorológicas e climáticas, para enriquecer as análises futuras. Essa abordagem ampliada permitirá não apenas a identificação de padrões atuais, mas também a previsão de possíveis surtos de dengue. Com esses dados, as autoridades de saúde poderão tomar medidas preventivas mais eficazes, agindo proativamente antes dos picos de transmissão.\n",
        "\n",
        "Em resumo, este MVP demonstrou como a análise de dados pode ser uma ferramenta poderosa no combate a desafios de saúde pública. Ao aplicar técnicas avançadas de Ciência de Dados, podemos não apenas entender melhor a dinâmica de doenças como a dengue, mas também antecipar e mitigar seus impactos na sociedade.\n",
        "\n"
      ],
      "metadata": {
        "id": "tYwe_TD82ER-"
      }
    }
  ],
  "metadata": {
    "colab": {
      "provenance": [],
      "authorship_tag": "ABX9TyPhTctTHtDzL1Ujk3fawISD",
      "include_colab_link": true
    },
    "kernelspec": {
      "display_name": "Python 3",
      "name": "python3"
    },
    "language_info": {
      "name": "python"
    }
  },
  "nbformat": 4,
  "nbformat_minor": 0
}